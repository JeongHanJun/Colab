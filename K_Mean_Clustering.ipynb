{
  "nbformat": 4,
  "nbformat_minor": 0,
  "metadata": {
    "colab": {
      "name": "K-Mean-Clustering.ipynb",
      "private_outputs": true,
      "provenance": [],
      "collapsed_sections": [],
      "authorship_tag": "ABX9TyN462v6tOzBEBKgVyeLs77s",
      "include_colab_link": true
    },
    "kernelspec": {
      "name": "python3",
      "display_name": "Python 3"
    },
    "language_info": {
      "name": "python"
    }
  },
  "cells": [
    {
      "cell_type": "markdown",
      "metadata": {
        "id": "view-in-github",
        "colab_type": "text"
      },
      "source": [
        "<a href=\"https://colab.research.google.com/github/JeongHanJun/Colab/blob/master/K_Mean_Clustering.ipynb\" target=\"_parent\"><img src=\"https://colab.research.google.com/assets/colab-badge.svg\" alt=\"Open In Colab\"/></a>"
      ]
    },
    {
      "cell_type": "code",
      "metadata": {
        "id": "KCPifYBXN1w5"
      },
      "source": [
        "'''\n",
        "    1. 데이터 준비\n",
        "\n",
        "    2. 얼마나 많은 클러스터를 만들것인가(k)\n",
        "\n",
        "    3. 클러스터의 중심을 설정한다.\n",
        "\n",
        "        -1. 랜덤으로 중심을 설정\n",
        "            \n",
        "            -  각 점에서 클러스터의 중심들 까지의 거리를 측정\n",
        "            -  각 점을 가장 가까운 클러스터에 속함\n",
        "\n",
        "        -2. 수동으로 중심을 설정\n",
        "\n",
        "        -3. K-mean++\n",
        "\n",
        "    4. 모든 데이터를 순회하며 , 각 데이터마다 가장 가까운 중심이 속해있는 Cluster로 assign\n",
        "\n",
        "    5. Centroid를 클러스터의 중심으로 이동 ( Move centriod to the center of its cluster)\n",
        "\n",
        "\n",
        "    6. 클러스터에 assign되는 데이터가 없을때까지 반복\n",
        "'''\n",
        "import pandas as pd\n",
        "import numpy as np\n",
        "import matplotlib.pyplot as plt\n",
        "from sklearn.cluster import KMeans\n",
        "%matplotlib inline\n",
        "\n",
        "x  = -2 * np.random.rand(100, 2)\n",
        "x1 = 1 + 2 * np.random.rand(50,2)\n",
        "x[50:100] = x1\n",
        "plt.scatter(x[:, 0], x[:, 1], s = 50, c = 'b')\n",
        "plt.show()"
      ],
      "execution_count": null,
      "outputs": []
    },
    {
      "cell_type": "code",
      "metadata": {
        "id": "agW6Ef1ON9JG"
      },
      "source": [
        "from sklearn.cluster import KMeans\n",
        "kmeans = KMeans(n_clusters = 2)\n",
        "kmeans.fit(x)"
      ],
      "execution_count": null,
      "outputs": []
    },
    {
      "cell_type": "code",
      "metadata": {
        "id": "Gny1rNAYOLiP"
      },
      "source": [
        "kmeans.cluster_centers_"
      ],
      "execution_count": null,
      "outputs": []
    },
    {
      "cell_type": "code",
      "metadata": {
        "id": "UwMxoWupOqK6"
      },
      "source": [
        "plt.scatter(x[:,0], x[:, 1], s = 50, c = 'b')\n",
        "plt.scatter(-0.94665068, -0.97138368, s=200, c='g', marker='s')\n",
        "plt.scatter(2.01559419, 2.02597093, s=200, c='r', marker='s')\n",
        "plt"
      ],
      "execution_count": null,
      "outputs": []
    },
    {
      "cell_type": "code",
      "metadata": {
        "id": "0BuB1WJ1PIy4"
      },
      "source": [
        ""
      ],
      "execution_count": null,
      "outputs": []
    }
  ]
}