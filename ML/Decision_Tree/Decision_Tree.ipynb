{
  "nbformat": 4,
  "nbformat_minor": 0,
  "metadata": {
    "colab": {
      "name": "Decision Tree.ipynb",
      "provenance": [],
      "collapsed_sections": []
    },
    "kernelspec": {
      "name": "python3",
      "display_name": "Python 3"
    },
    "language_info": {
      "name": "python"
    }
  },
  "cells": [
    {
      "cell_type": "markdown",
      "metadata": {
        "id": "rwNPzPRAjvQN"
      },
      "source": [
        "## Decision Tree  의사 결정 트리\n",
        "+ Classification, Regression 모두 표현 가능한 지도학습 모델\n",
        "+ 특정 기준 및 질문에 따라 데이터를 구분 Y/N\n",
        "+ Start from Root Node ~ End with Terminal / Leaf Node\n",
        "\n",
        "### Process\n",
        "  1. 데이터를 구분할 수 있는 질문을 기준으로 나눈다.\n",
        "  2. 1의 반복 with 주의할 점\n",
        "####< 주의할 점 >\n",
        "  * '1'을 너무 반복하면 Overfitting\n",
        "  * 아무 Parameter 없이 모델링해도 Overfitting\n",
        "\n",
        "\n",
        "#### 가지치기 (Pruning)\n",
        "- 오버피팅을 막기 위한 전략 (Strategies to prevent Overfitting) \n",
        "- 최대 깊이 / 터미널 노드의 최대 개수 / 노드의 분할을 위한 최소 데이터 개수 등을 제한\n"
      ]
    },
    {
      "cell_type": "markdown",
      "metadata": {
        "id": "r0QBbw3RnGHA"
      },
      "source": [
        "### 불순도 (Impurity),  엔트로피(Entropy)\n",
        "\n",
        "1. 불순도 (Impurity)\n",
        "+ 특정 범주 안에 서로 다른 데이터들이 얼마나 섞여있는지에 대한 지표\n",
        "##### <-> (반의어) 순도(Purity) = 특정 범주 안에 같은 데이터들이 얼마나 섞여있는지에 대한 지표\n",
        "  \n",
        "\n",
        "2. 엔트로피 (Entropy)\n",
        "+ 불순도를 수치로 표현한 값\n",
        "+ 엔트로피가 1이면, 불순도가 최대이다. (특정 범주 안에 데이터가 정확히 반/반 존재한다.)\n",
        "\n",
        "\n",
        "3. 정보획득 (Information Gain)\n",
        "+ 분기 이전의 엔트로피 - 분기 이후의 엔트로피 \n",
        "+ Decision Tree는 정보획득을 최대화하는 목표로 학습이 진행된다."
      ]
    },
    {
      "cell_type": "code",
      "metadata": {
        "id": "cZcd96eTo2cA"
      },
      "source": [
        "from sklearn.tree import DecisionTreeClassifier\n",
        "from sklearn.datasets import load_breast_cancer\n",
        "from sklearn.model_selection import train_test_split"
      ],
      "execution_count": 1,
      "outputs": []
    },
    {
      "cell_type": "code",
      "metadata": {
        "colab": {
          "base_uri": "https://localhost:8080/"
        },
        "id": "_hIz4qNopJno",
        "outputId": "7b6300a1-2c8c-4ca9-cb78-ebd65e53603a"
      },
      "source": [
        "cancer = load_breast_cancer()\n",
        "X_train, X_test, y_train, y_test = train_test_split(\n",
        "    cancer.data, cancer.target, stratify=cancer.target, random_state=42)\n",
        "tree = DecisionTreeClassifier(random_state=0)\n",
        "tree.fit(X_train, y_train)\n",
        "print(\"훈련 세트 정확도: {:.3f}\".format(tree.score(X_train, y_train)))\n",
        "print(\"테스트 세트 정확도: {:.3f}\".format(tree.score(X_test, y_test)))"
      ],
      "execution_count": 2,
      "outputs": [
        {
          "output_type": "stream",
          "text": [
            "훈련 세트 정확도: 1.000\n",
            "테스트 세트 정확도: 0.937\n"
          ],
          "name": "stdout"
        }
      ]
    },
    {
      "cell_type": "code",
      "metadata": {
        "colab": {
          "base_uri": "https://localhost:8080/"
        },
        "id": "vPHLqPrvpN7n",
        "outputId": "946a9baa-ff44-49f6-d972-2ba67aa29aab"
      },
      "source": [
        "tree = DecisionTreeClassifier(max_depth=4, random_state=0)\n",
        "tree.fit(X_train, y_train)\n",
        "\n",
        "print(\"훈련 세트 정확도: {:.3f}\".format(tree.score(X_train, y_train)))\n",
        "print(\"테스트 세트 정확도: {:.3f}\".format(tree.score(X_test, y_test)))"
      ],
      "execution_count": 3,
      "outputs": [
        {
          "output_type": "stream",
          "text": [
            "훈련 세트 정확도: 0.988\n",
            "테스트 세트 정확도: 0.951\n"
          ],
          "name": "stdout"
        }
      ]
    },
    {
      "cell_type": "code",
      "metadata": {
        "colab": {
          "base_uri": "https://localhost:8080/"
        },
        "id": "hxC4raY-pRLS",
        "outputId": "c0686f8c-afc4-4550-a3b8-4feeff78619b"
      },
      "source": [
        "tree = DecisionTreeClassifier(max_depth=8, random_state=0)\n",
        "tree.fit(X_train, y_train)\n",
        "\n",
        "print(\"훈련 세트 정확도: {:.3f}\".format(tree.score(X_train, y_train)))\n",
        "print(\"테스트 세트 정확도: {:.3f}\".format(tree.score(X_test, y_test)))"
      ],
      "execution_count": 4,
      "outputs": [
        {
          "output_type": "stream",
          "text": [
            "훈련 세트 정확도: 1.000\n",
            "테스트 세트 정확도: 0.937\n"
          ],
          "name": "stdout"
        }
      ]
    },
    {
      "cell_type": "code",
      "metadata": {
        "id": "2BlvLB_bpWw-"
      },
      "source": [
        ""
      ],
      "execution_count": null,
      "outputs": []
    }
  ]
}