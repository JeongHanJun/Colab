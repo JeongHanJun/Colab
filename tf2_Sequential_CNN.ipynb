{
  "nbformat": 4,
  "nbformat_minor": 0,
  "metadata": {
    "colab": {
      "name": "tf2_Sequential_CNN.ipynb",
      "provenance": [],
      "collapsed_sections": [],
      "authorship_tag": "ABX9TyNibTj7ba4mtFC2pl8Z3HQz",
      "include_colab_link": true
    },
    "kernelspec": {
      "name": "python3",
      "display_name": "Python 3"
    },
    "language_info": {
      "name": "python"
    },
    "accelerator": "GPU"
  },
  "cells": [
    {
      "cell_type": "markdown",
      "metadata": {
        "id": "view-in-github",
        "colab_type": "text"
      },
      "source": [
        "<a href=\"https://colab.research.google.com/github/JeongHanJun/Colab/blob/master/tf2_Sequential_CNN.ipynb\" target=\"_parent\"><img src=\"https://colab.research.google.com/assets/colab-badge.svg\" alt=\"Open In Colab\"/></a>"
      ]
    },
    {
      "cell_type": "markdown",
      "metadata": {
        "id": "l0WU3aHB770k"
      },
      "source": [
        "## 1. Import Libraries"
      ]
    },
    {
      "cell_type": "code",
      "metadata": {
        "colab": {
          "base_uri": "https://localhost:8080/"
        },
        "id": "xC54EOMD7WDj",
        "outputId": "a218e5d1-0464-4274-a07f-44b71b551e5a"
      },
      "source": [
        "import tensorflow as tf\n",
        "import numpy as np\n",
        "import pandas as pd\n",
        "import matplotlib.pyplot as plt\n",
        "%matplotlib inline\n",
        "from tensorflow import keras\n",
        "from tensorflow.keras.utils import to_categorical#one-hot encoding\n",
        "import os\n",
        "print(tf.__version__)\n",
        "print(keras.__version__)"
      ],
      "execution_count": 2,
      "outputs": [
        {
          "output_type": "stream",
          "text": [
            "2.5.0\n",
            "2.5.0\n"
          ],
          "name": "stdout"
        }
      ]
    },
    {
      "cell_type": "markdown",
      "metadata": {
        "id": "9Ylg1wMZ70TY"
      },
      "source": [
        "## 2. Hyper Parameters"
      ]
    },
    {
      "cell_type": "code",
      "metadata": {
        "id": "8dmIrkQZ8A6n"
      },
      "source": [
        "learning_rate = 0.01\n",
        "my_epochs = 10\n",
        "my_batch_size = 100"
      ],
      "execution_count": 3,
      "outputs": []
    },
    {
      "cell_type": "code",
      "metadata": {
        "id": "GwHST5fV8FT3"
      },
      "source": [
        "mnist = keras.datasets.mnist\n",
        "class_names = [ str(i) for i in range(10) ]"
      ],
      "execution_count": 4,
      "outputs": []
    },
    {
      "cell_type": "code",
      "metadata": {
        "colab": {
          "base_uri": "https://localhost:8080/"
        },
        "id": "3ZEfJnm18OHu",
        "outputId": "000fd090-f491-4afb-d392-eb2d5de733d2"
      },
      "source": [
        "# Mnist Data load\n",
        "(train_images, train_labels), (test_images, test_labels) = mnist.load_data()\n",
        "\n",
        "# Normalize 0~255 -> less than 1\n",
        "train_images = train_images.astype(np.float32) / 255.0\n",
        "test_images = test_images.astype(np.float32) / 255.0\n",
        "\n",
        "# np.expand_dims 차원 변경\n",
        "train_images = np.expand_dims(train_images, axis = -1)\n",
        "test_images =  np.expand_dims(test_images, axis = -1)\n",
        "\n",
        "# one hot encoding to labels\n",
        "train_labels = to_categorical(train_labels, 10)\n",
        "test_labels = to_categorical(test_labels, 10)\n"
      ],
      "execution_count": 5,
      "outputs": [
        {
          "output_type": "stream",
          "text": [
            "Downloading data from https://storage.googleapis.com/tensorflow/tf-keras-datasets/mnist.npz\n",
            "11493376/11490434 [==============================] - 0s 0us/step\n"
          ],
          "name": "stdout"
        }
      ]
    },
    {
      "cell_type": "markdown",
      "metadata": {
        "id": "jKXpjFzq893o"
      },
      "source": [
        "## 4. Model Functions"
      ]
    },
    {
      "cell_type": "code",
      "metadata": {
        "id": "BZxE6OR79BW9"
      },
      "source": [
        "# Configure Sequential Model \n",
        "def create_model():\n",
        "  model = keras.Sequential()\n",
        "  model.add(keras.layers.Conv2D(filters = 32, kernel_size = 3, activation = tf.nn.relu, padding = \"SAME\", input_shape = (28, 28, 1)))\n",
        "  model.add(keras.layers.MaxPool2D(padding = \"SAME\"))\n",
        "  model.add(keras.layers.Conv2D(filters = 64, kernel_size = 3, activation = tf.nn.relu, padding = \"SAME\"))\n",
        "  model.add(keras.layers.MaxPool2D(padding = \"SAME\"))\n",
        "  model.add(keras.layers.Conv2D(filters = 128, kernel_size = 3, activation = tf.nn.relu, padding = \"SAME\"))\n",
        "  model.add(keras.layers.MaxPool2D(padding = \"SAME\"))\n",
        "\n",
        "  model.add(keras.layers.Flatten())\n",
        "\n",
        "  model.add(keras.layers.Dense(256, activation = tf.nn.relu))\n",
        "  model.add(keras.layers.Dropout(0, 4))\n",
        "  model.add(keras.layers.Dense(10,  activation = tf.nn.softmax))\n",
        "  return model"
      ],
      "execution_count": 10,
      "outputs": []
    },
    {
      "cell_type": "code",
      "metadata": {
        "colab": {
          "base_uri": "https://localhost:8080/"
        },
        "id": "xBuLTU2o-hFz",
        "outputId": "642a2872-1446-4e65-93d0-08e07792417d"
      },
      "source": [
        "model = create_model()\n",
        "model.summary()"
      ],
      "execution_count": 11,
      "outputs": [
        {
          "output_type": "stream",
          "text": [
            "Model: \"sequential_2\"\n",
            "_________________________________________________________________\n",
            "Layer (type)                 Output Shape              Param #   \n",
            "=================================================================\n",
            "conv2d_4 (Conv2D)            (None, 28, 28, 32)        320       \n",
            "_________________________________________________________________\n",
            "max_pooling2d_2 (MaxPooling2 (None, 14, 14, 32)        0         \n",
            "_________________________________________________________________\n",
            "conv2d_5 (Conv2D)            (None, 14, 14, 64)        18496     \n",
            "_________________________________________________________________\n",
            "max_pooling2d_3 (MaxPooling2 (None, 7, 7, 64)          0         \n",
            "_________________________________________________________________\n",
            "conv2d_6 (Conv2D)            (None, 7, 7, 128)         73856     \n",
            "_________________________________________________________________\n",
            "max_pooling2d_4 (MaxPooling2 (None, 4, 4, 128)         0         \n",
            "_________________________________________________________________\n",
            "flatten (Flatten)            (None, 2048)              0         \n",
            "_________________________________________________________________\n",
            "dense (Dense)                (None, 256)               524544    \n",
            "_________________________________________________________________\n",
            "dropout (Dropout)            (None, 256)               0         \n",
            "_________________________________________________________________\n",
            "dense_1 (Dense)              (None, 10)                2570      \n",
            "=================================================================\n",
            "Total params: 619,786\n",
            "Trainable params: 619,786\n",
            "Non-trainable params: 0\n",
            "_________________________________________________________________\n"
          ],
          "name": "stdout"
        }
      ]
    },
    {
      "cell_type": "markdown",
      "metadata": {
        "id": "ah5lxmhU-k1a"
      },
      "source": [
        "## 5.  Training"
      ]
    },
    {
      "cell_type": "code",
      "metadata": {
        "id": "SA1ih-Sl_a8r"
      },
      "source": [
        "# CNN Model Structure , Compile\n",
        "model.compile(\n",
        "    loss = 'categorical_crossentropy',\n",
        "    optimizer = 'adam',\n",
        "    metrics = ['accuracy']\n",
        ")\n",
        "\n",
        "history = model.fit(\n",
        "    train_images,\n",
        "    train_labels,\n",
        "    batch_size = my_batch_size,\n",
        "    epochs = my_epochs,\n",
        "    verbose = 1,\n",
        "    validation_data = (test_images, test_labels)\n",
        ")\n",
        "\n",
        "score = model.evaluate(test_images, test_labels, verbose = 0)\n",
        "print('Test loss :', score[0])\n",
        "print('Test accuracy :', score[1])"
      ],
      "execution_count": null,
      "outputs": []
    },
    {
      "cell_type": "code",
      "metadata": {
        "id": "1o5_9iqwAPFG"
      },
      "source": [
        ""
      ],
      "execution_count": null,
      "outputs": []
    }
  ]
}