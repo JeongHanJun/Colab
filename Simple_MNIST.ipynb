{
  "nbformat": 4,
  "nbformat_minor": 0,
  "metadata": {
    "colab": {
      "name": "Simple MNIST.ipynb",
      "provenance": [],
      "authorship_tag": "ABX9TyN3hykaICQ27f+6dDB7Entd",
      "include_colab_link": true
    },
    "kernelspec": {
      "name": "python3",
      "display_name": "Python 3"
    },
    "language_info": {
      "name": "python"
    }
  },
  "cells": [
    {
      "cell_type": "markdown",
      "metadata": {
        "id": "view-in-github",
        "colab_type": "text"
      },
      "source": [
        "<a href=\"https://colab.research.google.com/github/JeongHanJun/Colab/blob/master/Simple_MNIST.ipynb\" target=\"_parent\"><img src=\"https://colab.research.google.com/assets/colab-badge.svg\" alt=\"Open In Colab\"/></a>"
      ]
    },
    {
      "cell_type": "code",
      "metadata": {
        "id": "-Ks5WqnfPrLZ"
      },
      "source": [
        "import numpy as np\n",
        "from tensorflow import keras"
      ],
      "execution_count": 1,
      "outputs": []
    },
    {
      "cell_type": "code",
      "metadata": {
        "colab": {
          "base_uri": "https://localhost:8080/"
        },
        "id": "4v6vEWqpPysN",
        "outputId": "bdd142d0-096b-4e4f-bdf5-50eaf94ddbab"
      },
      "source": [
        "class_cnt = 10\n",
        "input_shape = (28, 28, 1)\n",
        "\n",
        "(x_train, y_train), (x_test, y_test) = keras.datasets.mnist.load_data()\n",
        "# 0 ~ 1 사이 값으로 변환\n",
        "x_train = x_train.astype('float32') / 255\n",
        "x_test = x_test.astype('float32') / 255\n",
        "\n",
        "x_train = np.expand_dims(x_train, -1)\n",
        "x_test = np.expand_dims(x_test, -1)\n",
        "\n",
        "print('x_train_shape =', x_train.shape )\n",
        "print(x_train.shape[0], 'train_sample')\n",
        "print(x_test.shape[0], 'test_sample')\n",
        "\n",
        "# 벡터를 2진수로 변환 to_categorical =  binary class matrix\n",
        "y_train = keras.utils.to_categorical(y_train, class_cnt)\n",
        "y_test = keras.utils.to_categorical(y_test, class_cnt)"
      ],
      "execution_count": 3,
      "outputs": [
        {
          "output_type": "stream",
          "text": [
            "x_train_shape = (60000, 28, 28, 1)\n",
            "60000 train_sample\n",
            "10000 test_sample\n"
          ],
          "name": "stdout"
        }
      ]
    },
    {
      "cell_type": "code",
      "metadata": {
        "colab": {
          "base_uri": "https://localhost:8080/"
        },
        "id": "e5GX5JpRQxrj",
        "outputId": "a990262d-b52a-4794-a705-4aa391c9bc78"
      },
      "source": [
        "model = keras.Sequential(\n",
        "    [\n",
        "     keras.Input(shape = input_shape),\n",
        "     keras.layers.Conv2D(32, kernel_size = (3, 3), activation = 'relu'),\n",
        "     keras.layers.MaxPooling2D(pool_size = (2, 2)),\n",
        "     keras.layers.Conv2D(64, kernel_size = (3, 3), activation = 'relu'),\n",
        "     keras.layers.MaxPooling2D(pool_size = (2, 2)),\n",
        "     keras.layers.Flatten(),\n",
        "     keras.layers.Dropout(0.5),\n",
        "     keras.layers.Dense(class_cnt, activation = 'softmax')\n",
        "    ]\n",
        ")\n",
        "\n",
        "model.summary()"
      ],
      "execution_count": 6,
      "outputs": [
        {
          "output_type": "stream",
          "text": [
            "Model: \"sequential\"\n",
            "_________________________________________________________________\n",
            "Layer (type)                 Output Shape              Param #   \n",
            "=================================================================\n",
            "conv2d_3 (Conv2D)            (None, 26, 26, 32)        320       \n",
            "_________________________________________________________________\n",
            "max_pooling2d_1 (MaxPooling2 (None, 13, 13, 32)        0         \n",
            "_________________________________________________________________\n",
            "conv2d_4 (Conv2D)            (None, 11, 11, 64)        18496     \n",
            "_________________________________________________________________\n",
            "max_pooling2d_2 (MaxPooling2 (None, 5, 5, 64)          0         \n",
            "_________________________________________________________________\n",
            "flatten (Flatten)            (None, 1600)              0         \n",
            "_________________________________________________________________\n",
            "dropout (Dropout)            (None, 1600)              0         \n",
            "_________________________________________________________________\n",
            "dense (Dense)                (None, 10)                16010     \n",
            "=================================================================\n",
            "Total params: 34,826\n",
            "Trainable params: 34,826\n",
            "Non-trainable params: 0\n",
            "_________________________________________________________________\n"
          ],
          "name": "stdout"
        }
      ]
    },
    {
      "cell_type": "code",
      "metadata": {
        "colab": {
          "base_uri": "https://localhost:8080/"
        },
        "id": "UxKlwUgbUFWw",
        "outputId": "4f71668d-f748-4c71-9039-03aa8a508cf1"
      },
      "source": [
        "my_batch_size = 100\n",
        "my_epochs = 15\n",
        "\n",
        "model.compile(loss = 'categorical_crossentropy', optimizer = 'adam', metrics = ['accuracy'])\n",
        "\n",
        "model.fit(x_train, y_train, batch_size = my_batch_size, epochs = my_epochs, validation_split = 0.1)"
      ],
      "execution_count": 7,
      "outputs": [
        {
          "output_type": "stream",
          "text": [
            "Epoch 1/15\n",
            "540/540 [==============================] - 42s 76ms/step - loss: 0.3306 - accuracy: 0.8987 - val_loss: 0.0732 - val_accuracy: 0.9813\n",
            "Epoch 2/15\n",
            "540/540 [==============================] - 41s 75ms/step - loss: 0.1046 - accuracy: 0.9680 - val_loss: 0.0549 - val_accuracy: 0.9857\n",
            "Epoch 3/15\n",
            "540/540 [==============================] - 41s 75ms/step - loss: 0.0781 - accuracy: 0.9757 - val_loss: 0.0476 - val_accuracy: 0.9875\n",
            "Epoch 4/15\n",
            "540/540 [==============================] - 41s 75ms/step - loss: 0.0675 - accuracy: 0.9793 - val_loss: 0.0449 - val_accuracy: 0.9880\n",
            "Epoch 5/15\n",
            "540/540 [==============================] - 41s 76ms/step - loss: 0.0578 - accuracy: 0.9819 - val_loss: 0.0403 - val_accuracy: 0.9882\n",
            "Epoch 6/15\n",
            "540/540 [==============================] - 41s 75ms/step - loss: 0.0513 - accuracy: 0.9836 - val_loss: 0.0352 - val_accuracy: 0.9908\n",
            "Epoch 7/15\n",
            "540/540 [==============================] - 41s 75ms/step - loss: 0.0477 - accuracy: 0.9850 - val_loss: 0.0342 - val_accuracy: 0.9910\n",
            "Epoch 8/15\n",
            "540/540 [==============================] - 41s 76ms/step - loss: 0.0442 - accuracy: 0.9858 - val_loss: 0.0341 - val_accuracy: 0.9913\n",
            "Epoch 9/15\n",
            "540/540 [==============================] - 41s 76ms/step - loss: 0.0414 - accuracy: 0.9873 - val_loss: 0.0320 - val_accuracy: 0.9920\n",
            "Epoch 10/15\n",
            "540/540 [==============================] - 41s 76ms/step - loss: 0.0406 - accuracy: 0.9867 - val_loss: 0.0296 - val_accuracy: 0.9923\n",
            "Epoch 11/15\n",
            "540/540 [==============================] - 41s 76ms/step - loss: 0.0368 - accuracy: 0.9878 - val_loss: 0.0310 - val_accuracy: 0.9927\n",
            "Epoch 12/15\n",
            "540/540 [==============================] - 42s 77ms/step - loss: 0.0352 - accuracy: 0.9889 - val_loss: 0.0305 - val_accuracy: 0.9915\n",
            "Epoch 13/15\n",
            "540/540 [==============================] - 41s 77ms/step - loss: 0.0337 - accuracy: 0.9892 - val_loss: 0.0287 - val_accuracy: 0.9920\n",
            "Epoch 14/15\n",
            "540/540 [==============================] - 41s 77ms/step - loss: 0.0332 - accuracy: 0.9893 - val_loss: 0.0310 - val_accuracy: 0.9928\n",
            "Epoch 15/15\n",
            "540/540 [==============================] - 43s 79ms/step - loss: 0.0325 - accuracy: 0.9896 - val_loss: 0.0299 - val_accuracy: 0.9918\n"
          ],
          "name": "stdout"
        },
        {
          "output_type": "execute_result",
          "data": {
            "text/plain": [
              "<keras.callbacks.History at 0x7ff5f99ca350>"
            ]
          },
          "metadata": {},
          "execution_count": 7
        }
      ]
    },
    {
      "cell_type": "code",
      "metadata": {
        "colab": {
          "base_uri": "https://localhost:8080/"
        },
        "id": "8RYohnoIVYyD",
        "outputId": "09b9591f-c4ee-45af-d644-b776f5b19e11"
      },
      "source": [
        "score = model.evaluate(x_test, y_test, verbose = 0)\n",
        "print('Test Loss = ', score[0])\n",
        "print('Test accuracy = ', score[1])"
      ],
      "execution_count": 8,
      "outputs": [
        {
          "output_type": "stream",
          "text": [
            "Test Loss =  0.025279108434915543\n",
            "Test accuracy =  0.9908999800682068\n"
          ],
          "name": "stdout"
        }
      ]
    },
    {
      "cell_type": "code",
      "metadata": {
        "id": "mR4P2_jNWrr7"
      },
      "source": [
        ""
      ],
      "execution_count": null,
      "outputs": []
    }
  ]
}