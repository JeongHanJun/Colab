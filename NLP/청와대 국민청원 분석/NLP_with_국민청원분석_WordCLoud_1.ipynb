{
  "nbformat": 4,
  "nbformat_minor": 0,
  "metadata": {
    "colab": {
      "name": "NLP_with_국민청원분석_WordCLoud_1.ipynb",
      "private_outputs": true,
      "provenance": [],
      "collapsed_sections": []
    },
    "kernelspec": {
      "name": "python3",
      "display_name": "Python 3"
    },
    "language_info": {
      "name": "python"
    }
  },
  "cells": [
    {
      "cell_type": "code",
      "metadata": {
        "id": "Gfh-mg9NNBr6"
      },
      "source": [
        "!pip install soynlp"
      ],
      "execution_count": null,
      "outputs": []
    },
    {
      "cell_type": "code",
      "metadata": {
        "id": "5BNEcA1WNORb"
      },
      "source": [
        "!pip show soynlp"
      ],
      "execution_count": null,
      "outputs": []
    },
    {
      "cell_type": "code",
      "metadata": {
        "id": "yTW9N9D0NPmL"
      },
      "source": [
        "import pandas as pd\n",
        "import numpy as np\n",
        "import re# 정규표현식"
      ],
      "execution_count": null,
      "outputs": []
    },
    {
      "cell_type": "code",
      "metadata": {
        "id": "DgeaDKldNUQR"
      },
      "source": [
        "!pip install -U -q PyDrive\n",
        "from pydrive.auth import GoogleAuth\n",
        "from pydrive.drive import GoogleDrive\n",
        "from google.colab import auth\n",
        "from oauth2client.client import GoogleCredentials"
      ],
      "execution_count": null,
      "outputs": []
    },
    {
      "cell_type": "code",
      "metadata": {
        "id": "ih5HZaLCNVHo"
      },
      "source": [
        "auth.authenticate_user()\n",
        "gauth = GoogleAuth()\n",
        "gauth.credentials = GoogleCredentials.get_application_default()\n",
        "drive = GoogleDrive(gauth)"
      ],
      "execution_count": null,
      "outputs": []
    },
    {
      "cell_type": "code",
      "metadata": {
        "id": "4jfmnA-sNXlk"
      },
      "source": [
        "from google.colab import drive\n",
        "drive.mount('/content/drive')"
      ],
      "execution_count": null,
      "outputs": []
    },
    {
      "cell_type": "code",
      "metadata": {
        "id": "WGINhdiSNfbT"
      },
      "source": [
        "data = pd.read_csv('/content/drive/MyDrive/국민청원분석/petition.csv', index_col=0, parse_dates=['start', 'end'])"
      ],
      "execution_count": null,
      "outputs": []
    },
    {
      "cell_type": "code",
      "metadata": {
        "id": "6Xqln4iXNpt8"
      },
      "source": [
        "data.shape"
      ],
      "execution_count": null,
      "outputs": []
    },
    {
      "cell_type": "code",
      "metadata": {
        "id": "LjHNpCogNzSH"
      },
      "source": [
        "data.tail(10)"
      ],
      "execution_count": null,
      "outputs": []
    },
    {
      "cell_type": "code",
      "metadata": {
        "id": "KVv5Xfr-N21a"
      },
      "source": [
        "# 내 관심사 키워드를 통애 데이터 가져오기\n",
        "p = r'.*(스포츠|야구|대학|취업).*'\n",
        "care = data[data['title'].str.match(p) |\n",
        "           data['content'].str.match(p, flags=re.MULTILINE)]\n",
        "care.shape"
      ],
      "execution_count": null,
      "outputs": []
    },
    {
      "cell_type": "code",
      "metadata": {
        "id": "YOKwvVlkOACA"
      },
      "source": [
        "care.tail(50)"
      ],
      "execution_count": null,
      "outputs": []
    },
    {
      "cell_type": "code",
      "metadata": {
        "id": "WOGRUV3DOC2-"
      },
      "source": [
        "# 491514번을 자세히 보면"
      ],
      "execution_count": null,
      "outputs": []
    },
    {
      "cell_type": "code",
      "metadata": {
        "id": "T_rTsT5VOLu2"
      },
      "source": [
        "test_idx = 491514"
      ],
      "execution_count": null,
      "outputs": []
    },
    {
      "cell_type": "code",
      "metadata": {
        "id": "aG-U-wtIOPVh"
      },
      "source": [
        "sample_title = care.loc[test_idx, 'title']\n",
        "sample_title"
      ],
      "execution_count": null,
      "outputs": []
    },
    {
      "cell_type": "code",
      "metadata": {
        "id": "FR1Pi1wGOQIp"
      },
      "source": [
        "sample_content = care['content'][test_idx]\n",
        "sample_content"
      ],
      "execution_count": null,
      "outputs": []
    },
    {
      "cell_type": "code",
      "metadata": {
        "id": "AJ2rKxjQOUGE"
      },
      "source": [
        "from soynlp.tokenizer import RegexTokenizer\n",
        "\n",
        "tokenizer = RegexTokenizer()\n",
        "tokenizer"
      ],
      "execution_count": null,
      "outputs": []
    },
    {
      "cell_type": "code",
      "metadata": {
        "id": "ZEegKzBNOWZg"
      },
      "source": [
        "# 단어 분리\n",
        "tokened_title = tokenizer.tokenize(sample_title)\n",
        "tokened_title"
      ],
      "execution_count": null,
      "outputs": []
    },
    {
      "cell_type": "code",
      "metadata": {
        "id": "-LY37jq0OYNZ"
      },
      "source": [
        "# 내용 단어 분리\n",
        "tokened_content = tokenizer.tokenize(sample_content)\n",
        "tokened_content[:20]"
      ],
      "execution_count": null,
      "outputs": []
    },
    {
      "cell_type": "code",
      "metadata": {
        "id": "njwteUxKOhU-"
      },
      "source": [
        "print(len(tokened_title))\n",
        "print(len(tokened_content))"
      ],
      "execution_count": null,
      "outputs": []
    },
    {
      "cell_type": "code",
      "metadata": {
        "id": "clkbKmf9OjdJ"
      },
      "source": [
        "# 데이터 전처리\n",
        "\n",
        "def preprocessing(text):\n",
        "    # 개행문자 제거\n",
        "    text = re.sub('\\\\\\\\n', ' ', text)\n",
        "    return text"
      ],
      "execution_count": null,
      "outputs": []
    },
    {
      "cell_type": "code",
      "metadata": {
        "id": "ML89kHFCOnzJ"
      },
      "source": [
        "%time sentences = care['content'].apply(preprocessing)\n",
        "# %time을 통해 코드 실행 시간 출력"
      ],
      "execution_count": null,
      "outputs": []
    },
    {
      "cell_type": "code",
      "metadata": {
        "id": "YKasXQhHOstx"
      },
      "source": [
        "%time tokens = sentences.apply(tokenizer.tokenize)\n",
        "tokens"
      ],
      "execution_count": null,
      "outputs": []
    },
    {
      "cell_type": "code",
      "metadata": {
        "id": "WydYva_GOyb_"
      },
      "source": [
        "tokens[test_idx][:10]"
      ],
      "execution_count": null,
      "outputs": []
    },
    {
      "cell_type": "code",
      "metadata": {
        "id": "f0yX8PIEsI3i"
      },
      "source": [
        "# 그래프에 retina display 적용\n",
        "%config InlineBackend.figure_format = 'retina'"
      ],
      "execution_count": null,
      "outputs": []
    },
    {
      "cell_type": "code",
      "metadata": {
        "id": "H2D5nGHIsQdj"
      },
      "source": [
        "# matplotlib 한글 폰트 관련\n",
        "\n",
        "import matplotlib as mpl\n",
        "import matplotlib.pyplot as plt\n",
        "import matplotlib.font_manager as fm\n",
        "\n",
        "%matplotlib inline\n",
        "\n",
        "mpl.rcParams['axes.unicode_minus'] = False"
      ],
      "execution_count": null,
      "outputs": []
    },
    {
      "cell_type": "code",
      "metadata": {
        "id": "fa1kJHS8scu_"
      },
      "source": [
        "print('버전 : ', mpl.__version__)\n",
        "print('설치 위치 : ', mpl.__file__)\n",
        "print('설정 위치 : ', mpl.get_configdir())\n",
        "print('캐시 위치 : ', mpl.get_cachedir())"
      ],
      "execution_count": null,
      "outputs": []
    },
    {
      "cell_type": "code",
      "metadata": {
        "id": "-W--RWkYsh9n"
      },
      "source": [
        "[ (f.name, f.fname) for f in fm.fontManager.ttflist if 'NaNum' in f.name]"
      ],
      "execution_count": null,
      "outputs": []
    },
    {
      "cell_type": "code",
      "metadata": {
        "id": "gnXnBdqLtwQt"
      },
      "source": [
        "path = '/content/drive/MyDrive/Korean_Fonts/Nanum/NanumBarunGothic.ttf'\n",
        "fontprop = fm.FontProperties(fname = path, size = 18)# 이후 도식화할때 fontproperties = fontprop"
      ],
      "execution_count": null,
      "outputs": []
    },
    {
      "cell_type": "code",
      "metadata": {
        "id": "yOZnsY3rzzT8"
      },
      "source": [
        "stopwords_kr = ['하지만', '그리고', '그런데', '저는','제가','그럼', '이런', '저런', '합니다','많은', '많이', '정말', '너무'] "
      ],
      "execution_count": null,
      "outputs": []
    },
    {
      "cell_type": "code",
      "metadata": {
        "id": "0pfMEWK10HsW"
      },
      "source": [
        "from wordcloud import WordCloud\n",
        "import matplotlib.pyplot as plt\n",
        "%matplotlib inline\n",
        "\n",
        "def display_Wordcloud(data = None, backgroundcolor = 'white', width = 800, height = 600):\n",
        "    wordcloud = WordCloud( font_path = path, stopwords = stopwords_kr, background_color = backgroundcolor, width = width, height = height).generate(data)\n",
        "\n",
        "    plt.figure(figsize = (15, 10))\n",
        "    plt.imshow(wordcloud)\n",
        "    plt.axis('off')\n",
        "    plt.show()"
      ],
      "execution_count": null,
      "outputs": []
    },
    {
      "cell_type": "code",
      "metadata": {
        "id": "R0WjoWkm1C6O"
      },
      "source": [
        "%time display_Wordcloud(' '.join(sentences))"
      ],
      "execution_count": null,
      "outputs": []
    },
    {
      "cell_type": "code",
      "metadata": {
        "id": "CBD20WAF03ox"
      },
      "source": [
        "# 사실상 불용어가 많이 등장해서, 워드클라우드의 이미를 찾기 힘드므로, 이를 해결하기 위해 명사추출\n",
        "from soynlp.noun import LRNounExtractor"
      ],
      "execution_count": null,
      "outputs": []
    },
    {
      "cell_type": "code",
      "metadata": {
        "id": "cuwminpa09Kp"
      },
      "source": [
        "%%time\n",
        "noun_extractor = LRNounExtractor(verbose = True)\n",
        "noun_extractor.train(sentences)\n",
        "nouns = noun_extractor.extract()"
      ],
      "execution_count": null,
      "outputs": []
    },
    {
      "cell_type": "code",
      "metadata": {
        "id": "tvpd8Vqv1uV5"
      },
      "source": [
        "%time display_Wordcloud(' '.join(nouns))"
      ],
      "execution_count": null,
      "outputs": []
    },
    {
      "cell_type": "markdown",
      "metadata": {
        "id": "c77bKOi-1zWf"
      },
      "source": [
        "## WordCloud를 만들긴 하였으나, 불용어가 많아서 의미를 찾기가 어려우니 wordtovec으로 단어 유사도를 찾거나, 불용어내용을 늘리거나 하는 다른 방법으로 워드클라우드를 개선해야할 듯"
      ]
    },
    {
      "cell_type": "code",
      "metadata": {
        "id": "NPDKrc1U2oUM"
      },
      "source": [
        ""
      ],
      "execution_count": null,
      "outputs": []
    }
  ]
}