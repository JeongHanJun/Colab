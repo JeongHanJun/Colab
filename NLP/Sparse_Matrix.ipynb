{
  "nbformat": 4,
  "nbformat_minor": 0,
  "metadata": {
    "colab": {
      "name": "Sparse Matrix.ipynb",
      "provenance": [],
      "collapsed_sections": []
    },
    "kernelspec": {
      "name": "python3",
      "display_name": "Python 3"
    },
    "language_info": {
      "name": "python"
    }
  },
  "cells": [
    {
      "cell_type": "markdown",
      "metadata": {
        "id": "i_cp86y5iXat"
      },
      "source": [
        "## 희소 행렬 (Sparse Matrix)\n",
        "- BOW형태의 모델 / CountVectorizer / TfidfVectorizer  를 이용해 Feature Vectorize를 하면 많은 칼럼이 생기고, 대부분의 값은 0으로 채워진다.\n",
        "- 너무 많은 불필요한 0의 값으로 인해, 연산이 느려지고, 메모리 낭비가 심해진다.\n",
        "- 이 문제를 해결하기 위한 2가지 대표적인 변환방법이 COO형식과 CSR형식이다."
      ]
    },
    {
      "cell_type": "markdown",
      "metadata": {
        "id": "ByD1d15rjUxu"
      },
      "source": [
        "### COO ( Coordinate , 좌표 )\n",
        "\n",
        "- COO 방식은 0이 아닌 데이터만 별도의 배열에 저장하고, 해당 데이터들의 행과 열의 위치를 별도의 배열에 저장하는 방식이다.\n",
        "- 0이 아닌값, 행 위치 값, 열 위치 값 에 대해 배열로 표현한다."
      ]
    },
    {
      "cell_type": "markdown",
      "metadata": {
        "id": "BKeA9ANKkHZr"
      },
      "source": [
        "ex )   \n",
        "[3, 0, 1]  \n",
        "[0, 2, 0]  이라는 배열이 있으면   \n",
        "\n",
        "     '3'은 (0,0)위치에, '1'은 (0,2)위치에, '2'는 {1,1} 위치에 존재한다. \n",
        "     data = [3, 1, 2]이고, row_pos = [0, 0, 1]이고, col_pos = [0, 2, 1] 이다. \n",
        "     이 3가지 배열만 알아도 원본 행렬을 유추할 수 있다.\n"
      ]
    },
    {
      "cell_type": "code",
      "metadata": {
        "colab": {
          "base_uri": "https://localhost:8080/"
        },
        "id": "IOseFBtjk2NC",
        "outputId": "7061d04d-8e2f-4c48-9468-e4bf8d7dd26e"
      },
      "source": [
        "from scipy import sparse\n",
        "import numpy as np\n",
        "\n",
        "data = np.array([3, 1, 2])\n",
        "row_pos = np.array([0, 0, 1])\n",
        "col_pos = np.array([0, 2, 1])\n",
        "\n",
        "sparse_coo = sparse.coo_matrix( (data, (row_pos, col_pos)) )\n",
        "\n",
        "print(type(sparse_coo))\n",
        "print(sparse_coo)\n",
        "dense_01 = sparse_coo.toarray()\n",
        "print(type(dense_01), '\\n', dense_01)\n",
        "\n",
        "# sparse_coo = 희소 행렬 객체 변수\n",
        "# sparse.coo_matrix( (data, (row_pos, col_pos)) )로 매칭시키고\n",
        "# sparse_coo.toarray()를 하게 되면 원본 행렬이 추출된다."
      ],
      "execution_count": 3,
      "outputs": [
        {
          "output_type": "stream",
          "text": [
            "<class 'scipy.sparse.coo.coo_matrix'>\n",
            "  (0, 0)\t3\n",
            "  (0, 2)\t1\n",
            "  (1, 1)\t2\n",
            "<class 'numpy.ndarray'> \n",
            " [[3 0 1]\n",
            " [0 2 0]]\n"
          ],
          "name": "stdout"
        }
      ]
    },
    {
      "cell_type": "markdown",
      "metadata": {
        "id": "JmQZohyklbdD"
      },
      "source": [
        "### CSR ( Compressed Sparse Row ) 형식\n",
        "- 위처럼 COO 방식으로 진행하는데, 행렬의 크기가 커지면 row_pos / col_pos 의 값이 순차적으로 반복하게 된다.\n",
        "- 아래의 경우, 0/2/4가 2번, 1이 5번 반복된다. 이렇게 반복하는 값이 있으면, 반복이 시작되는 인덱스만 받아와서 row/col pos를 더 작게 압축시키는 방법이다. \n",
        "- 주어진 범위 안에서 데이터들의 위치에 대한 정보를 압축시키는 방식이 CSR 방식이다."
      ]
    },
    {
      "cell_type": "code",
      "metadata": {
        "colab": {
          "base_uri": "https://localhost:8080/"
        },
        "id": "RlXXrnwLnD4D",
        "outputId": "86d9b0cc-2a3b-4ac8-d763-9f55fb7aa09b"
      },
      "source": [
        "from scipy import sparse\n",
        "\n",
        "dense2 = np.array(\n",
        "    [\n",
        "     [0, 0, 1, 0, 0, 5],\n",
        "     [1, 4, 0, 3, 2, 5],\n",
        "     [0, 6, 0, 3, 0, 0],\n",
        "     [2, 0, 0, 0, 0, 0],\n",
        "     [0, 0, 0, 7, 0, 8],\n",
        "     [1, 0, 0, 0, 0, 0]\n",
        "    ]\n",
        ")\n",
        "\n",
        "data2 = np.array([1, 5, 1, 4, 3, 2, 5, 6, 3, 2, 7, 8, 1])\n",
        "\n",
        "row_pos = np.array([0, 0, 1, 1, 1, 1, 1, 2, 2, 3, 4, 4, 5])\n",
        "col_pos = np.array([2, 5, 0, 1, 3, 4, 5, 1, 3, 0, 3, 5, 0])\n",
        "\n",
        "sparse2_coo = sparse.coo_matrix(( data2, (row_pos, col_pos) ))\n",
        "row_pos_ind = np.array([0, 2, 7, 9, 10, 12, 13])# 0은 0번에서 반복시작, 1은 2번에서 반복시작, 2는 3번에서 반복시작, 4는 \n",
        "\n",
        "sparse2_csr = sparse.csr_matrix( (data2, (row_pos, col_pos)))\n",
        "\n",
        "print('COO 변환된 행렬')\n",
        "print(sparse2_coo.toarray())\n",
        "print('\\n\\n')\n",
        "print('CSR 변환된 행렬')\n",
        "print(sparse2_csr.toarray())"
      ],
      "execution_count": 12,
      "outputs": [
        {
          "output_type": "stream",
          "text": [
            "COO 변환된 행렬\n",
            "[[0 0 1 0 0 5]\n",
            " [1 4 0 3 2 5]\n",
            " [0 6 0 3 0 0]\n",
            " [2 0 0 0 0 0]\n",
            " [0 0 0 7 0 8]\n",
            " [1 0 0 0 0 0]]\n",
            "\n",
            "\n",
            "\n",
            "CSR 변환된 행렬\n",
            "[[0 0 1 0 0 5]\n",
            " [1 4 0 3 2 5]\n",
            " [0 6 0 3 0 0]\n",
            " [2 0 0 0 0 0]\n",
            " [0 0 0 7 0 8]\n",
            " [1 0 0 0 0 0]]\n"
          ],
          "name": "stdout"
        }
      ]
    },
    {
      "cell_type": "code",
      "metadata": {
        "id": "O_3K6oHepHSe"
      },
      "source": [
        "mat1 = np.array(\n",
        "    [\n",
        "     [0, 0, 1, 0, 0, 5],\n",
        "     [1, 4, 0, 3, 2, 5],\n",
        "     [0, 6, 0, 3, 0, 0],\n",
        "     [2, 0, 0, 0, 0, 0],\n",
        "     [0, 0, 0, 7, 0, 8],\n",
        "     [1, 0, 0, 0, 0, 0]\n",
        "    ]\n",
        ")\n",
        "\n",
        "coo = sparse.coo_matrix(mat1)\n",
        "csr = sparse.csr_matrix(mat1)\n"
      ],
      "execution_count": 13,
      "outputs": []
    },
    {
      "cell_type": "code",
      "metadata": {
        "colab": {
          "base_uri": "https://localhost:8080/"
        },
        "id": "TOWcRb5gqJBg",
        "outputId": "a3d60804-ef24-411f-e048-0344b27328ea"
      },
      "source": [
        "coo.toarray()"
      ],
      "execution_count": 15,
      "outputs": [
        {
          "output_type": "execute_result",
          "data": {
            "text/plain": [
              "array([[0, 0, 1, 0, 0, 5],\n",
              "       [1, 4, 0, 3, 2, 5],\n",
              "       [0, 6, 0, 3, 0, 0],\n",
              "       [2, 0, 0, 0, 0, 0],\n",
              "       [0, 0, 0, 7, 0, 8],\n",
              "       [1, 0, 0, 0, 0, 0]])"
            ]
          },
          "metadata": {
            "tags": []
          },
          "execution_count": 15
        }
      ]
    },
    {
      "cell_type": "code",
      "metadata": {
        "colab": {
          "base_uri": "https://localhost:8080/"
        },
        "id": "BDEELGIpqLNN",
        "outputId": "e7736210-a2d5-4bab-c99e-0de5c7f303db"
      },
      "source": [
        "csr.toarray()"
      ],
      "execution_count": 16,
      "outputs": [
        {
          "output_type": "execute_result",
          "data": {
            "text/plain": [
              "array([[0, 0, 1, 0, 0, 5],\n",
              "       [1, 4, 0, 3, 2, 5],\n",
              "       [0, 6, 0, 3, 0, 0],\n",
              "       [2, 0, 0, 0, 0, 0],\n",
              "       [0, 0, 0, 7, 0, 8],\n",
              "       [1, 0, 0, 0, 0, 0]], dtype=int64)"
            ]
          },
          "metadata": {
            "tags": []
          },
          "execution_count": 16
        }
      ]
    },
    {
      "cell_type": "markdown",
      "metadata": {
        "id": "qbXqaGRkqOp8"
      },
      "source": [
        "sklearn의 CountVectorizer, TfidfVectorizer 클래스로 피쳐 벡터화된 행렬은 모두 CSR 형식이다."
      ]
    }
  ]
}