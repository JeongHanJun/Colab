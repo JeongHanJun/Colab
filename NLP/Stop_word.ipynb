{
  "nbformat": 4,
  "nbformat_minor": 0,
  "metadata": {
    "colab": {
      "name": "Stop word.ipynb",
      "provenance": [],
      "collapsed_sections": []
    },
    "kernelspec": {
      "name": "python3",
      "display_name": "Python 3"
    },
    "language_info": {
      "name": "python"
    }
  },
  "cells": [
    {
      "cell_type": "markdown",
      "metadata": {
        "id": "E3CAIy6wMCeb"
      },
      "source": [
        "## 불용어 (Stop Word) 제거\n",
        "+ 불용어 = 분석에 큰 의미없는 단어\n",
        "+ ex) a, an, i 등 문맥적으로 큰 의미가 없는 단어\n",
        "+ 주로 텍스트에 빈번하게 나타나므로 중요하게 인지될 수 있지만, 실질적으로는 중요하지 않으므로 사전에서 제거"
      ]
    },
    {
      "cell_type": "code",
      "metadata": {
        "colab": {
          "base_uri": "https://localhost:8080/"
        },
        "id": "HGlmUTQ_MkhP",
        "outputId": "bd328dd4-4a9e-49d3-ce07-39c3b10fd60b"
      },
      "source": [
        "import nltk\n",
        "nltk.download('stopwords')\n",
        "nltk.download('punkt')"
      ],
      "execution_count": 6,
      "outputs": [
        {
          "output_type": "stream",
          "text": [
            "[nltk_data] Downloading package stopwords to /root/nltk_data...\n",
            "[nltk_data]   Package stopwords is already up-to-date!\n",
            "[nltk_data] Downloading package punkt to /root/nltk_data...\n",
            "[nltk_data]   Unzipping tokenizers/punkt.zip.\n"
          ],
          "name": "stdout"
        },
        {
          "output_type": "execute_result",
          "data": {
            "text/plain": [
              "True"
            ]
          },
          "metadata": {
            "tags": []
          },
          "execution_count": 6
        }
      ]
    },
    {
      "cell_type": "code",
      "metadata": {
        "colab": {
          "base_uri": "https://localhost:8080/"
        },
        "id": "DO6vvOSpNAST",
        "outputId": "64e4a766-22ec-4469-ac0d-26865bca9a8f"
      },
      "source": [
        "print(\"영어 불용어 개수 : \", len(nltk.corpus.stopwords.words('english')))\n",
        "print(nltk.corpus.stopwords.words('english')[:40])"
      ],
      "execution_count": 7,
      "outputs": [
        {
          "output_type": "stream",
          "text": [
            "영어 불용어 개수 :  179\n",
            "['i', 'me', 'my', 'myself', 'we', 'our', 'ours', 'ourselves', 'you', \"you're\", \"you've\", \"you'll\", \"you'd\", 'your', 'yours', 'yourself', 'yourselves', 'he', 'him', 'his', 'himself', 'she', \"she's\", 'her', 'hers', 'herself', 'it', \"it's\", 'its', 'itself', 'they', 'them', 'their', 'theirs', 'themselves', 'what', 'which', 'who', 'whom', 'this']\n"
          ],
          "name": "stdout"
        }
      ]
    },
    {
      "cell_type": "code",
      "metadata": {
        "id": "d6APW4xkNW8u"
      },
      "source": [
        "# 1/2/3인칭 주어, 소유격, 목적격, be동사, 관계대명사 등등이 있다."
      ],
      "execution_count": 8,
      "outputs": []
    },
    {
      "cell_type": "code",
      "metadata": {
        "colab": {
          "base_uri": "https://localhost:8080/"
        },
        "id": "ObAqvnX-NiYJ",
        "outputId": "d4230f2d-9f75-45ef-a6b1-7366b5d9f7da"
      },
      "source": [
        "from nltk.corpus import stopwords\n",
        "from nltk.tokenize import word_tokenize\n",
        "\n",
        "ex = \"Family is not an important thing, it's everything\"\n",
        "stop_words = set(stopwords.words('english'))\n",
        "\n",
        "word_tokens = word_tokenize(ex)\n",
        "\n",
        "res = []\n",
        "for token in word_tokens:\n",
        "  if token not in stop_words:\n",
        "    res.append(token)\n",
        "\n",
        "print(word_tokens)\n",
        "print('\\n\\n')\n",
        "print(res)"
      ],
      "execution_count": 9,
      "outputs": [
        {
          "output_type": "stream",
          "text": [
            "['Family', 'is', 'not', 'an', 'important', 'thing', ',', 'it', \"'s\", 'everything']\n",
            "\n",
            "\n",
            "\n",
            "['Family', 'important', 'thing', ',', \"'s\", 'everything']\n"
          ],
          "name": "stdout"
        }
      ]
    },
    {
      "cell_type": "code",
      "metadata": {
        "id": "jWVIK6pQOJQS"
      },
      "source": [
        "# 결국 문장을 토큰화해서 분리하였을때, 중요한 정보가 담고있는것을 가져오는게 자연어 처리인데, 이를 위해 stopword를 제거한다."
      ],
      "execution_count": 10,
      "outputs": []
    },
    {
      "cell_type": "code",
      "metadata": {
        "id": "nUGykIBdOk6r"
      },
      "source": [
        "# 그렇다면 한국어의 불용어는 무엇이 있을까??\n",
        "# 우선적으로 그 전에, nltk에서는 한국어 불용어를 지원해주지 않는다.\n",
        "# 이를 위해 txt파일에 이들을 직접 정리해서 모아놓고 사용하는경우가 많다.\n",
        "# 해당내용은 Korean_stopwords.txt 참고"
      ],
      "execution_count": 11,
      "outputs": []
    }
  ]
}