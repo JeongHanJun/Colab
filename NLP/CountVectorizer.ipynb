{
  "nbformat": 4,
  "nbformat_minor": 0,
  "metadata": {
    "colab": {
      "name": "CountVectorizer.ipynb",
      "provenance": [],
      "collapsed_sections": []
    },
    "kernelspec": {
      "name": "python3",
      "display_name": "Python 3"
    },
    "language_info": {
      "name": "python"
    }
  },
  "cells": [
    {
      "cell_type": "markdown",
      "metadata": {
        "id": "VshuaOtwZBQy"
      },
      "source": [
        "## 카운트 벡터화(CountVectorizer)\n",
        "- BOW의 Feature Vectorizer 에는 CountVectorizer 와 TF-IDF(Term Frequency - Inverse Documnet Frequency)가 있다.\n",
        "- Word Feature에 값을 부여할 때, 각 텍스트에서 단어가 나타나는 횟수(Count)를 부여하는 경우를 카운트 벡터화(Count Vectorizer)라고 한다. \n",
        "- sklearn의 CountVectorizer 클래스를 활용하여 적용할 수 있다."
      ]
    },
    {
      "cell_type": "code",
      "metadata": {
        "colab": {
          "base_uri": "https://localhost:8080/"
        },
        "id": "dDXUGSNYZARZ",
        "outputId": "a9226bc8-fa49-4543-a8a3-f836633ae02e"
      },
      "source": [
        "# nltk library baseline\n",
        "import nltk\n",
        "nltk.download('stopwords')# for Stop word\n",
        "nltk.download('punkt')# for Tokenize\n",
        "nltk.download('wordnet')# for Lemmatization"
      ],
      "execution_count": 1,
      "outputs": [
        {
          "output_type": "stream",
          "text": [
            "[nltk_data] Downloading package stopwords to /root/nltk_data...\n",
            "[nltk_data]   Unzipping corpora/stopwords.zip.\n",
            "[nltk_data] Downloading package punkt to /root/nltk_data...\n",
            "[nltk_data]   Unzipping tokenizers/punkt.zip.\n",
            "[nltk_data] Downloading package wordnet to /root/nltk_data...\n",
            "[nltk_data]   Unzipping corpora/wordnet.zip.\n"
          ],
          "name": "stdout"
        },
        {
          "output_type": "execute_result",
          "data": {
            "text/plain": [
              "True"
            ]
          },
          "metadata": {
            "tags": []
          },
          "execution_count": 1
        }
      ]
    },
    {
      "cell_type": "code",
      "metadata": {
        "colab": {
          "base_uri": "https://localhost:8080/"
        },
        "id": "ML7D-nlZaMBG",
        "outputId": "89c6c22a-4aa1-4c48-864c-85fa5f7fe414"
      },
      "source": [
        "from sklearn.feature_extraction.text import CountVectorizer\n",
        "\n",
        "s1 = ['You know that I want your love. bacause I love you']\n",
        "\n",
        "vector = CountVectorizer()\n",
        "\n",
        "print(vector.fit_transform(s1).toarray())\n",
        "print(vector.vocabulary_)"
      ],
      "execution_count": 3,
      "outputs": [
        {
          "output_type": "stream",
          "text": [
            "[[1 1 2 1 1 2 1]]\n",
            "{'you': 5, 'know': 1, 'that': 3, 'want': 4, 'your': 6, 'love': 2, 'bacause': 0}\n"
          ],
          "name": "stdout"
        }
      ]
    },
    {
      "cell_type": "markdown",
      "metadata": {
        "id": "inaMyiIHaqM8"
      },
      "source": [
        "### BOW + Stop Words"
      ]
    },
    {
      "cell_type": "code",
      "metadata": {
        "colab": {
          "base_uri": "https://localhost:8080/"
        },
        "id": "r9TJUVdubqgk",
        "outputId": "64bc66d2-8a4b-45d6-beee-6bfc3991f993"
      },
      "source": [
        "s2 = [\"Family is not an important thing. It's everything\"]\n",
        "\n",
        "vector2 = CountVectorizer(stop_words=['is', 'not', 'an', 'it', \"is\" ])\n",
        "\n",
        "print(vector2.fit_transform(s2).toarray())\n",
        "print(vector2.vocabulary_)"
      ],
      "execution_count": 6,
      "outputs": [
        {
          "output_type": "stream",
          "text": [
            "[[1 1 1 1]]\n",
            "{'family': 1, 'important': 2, 'thing': 3, 'everything': 0}\n"
          ],
          "name": "stdout"
        }
      ]
    },
    {
      "cell_type": "code",
      "metadata": {
        "colab": {
          "base_uri": "https://localhost:8080/"
        },
        "id": "2OFgTKqxcepU",
        "outputId": "f36a4cab-9fa1-4bd6-9c78-5c80f0506a61"
      },
      "source": [
        "s2 = [\"Family is not an important thing. It's everything\"]\n",
        "\n",
        "vector2 = CountVectorizer(stop_words='english')\n",
        "\n",
        "print(vector2.fit_transform(s2).toarray())\n",
        "print(vector2.vocabulary_)"
      ],
      "execution_count": 7,
      "outputs": [
        {
          "output_type": "stream",
          "text": [
            "[[1 1 1]]\n",
            "{'family': 0, 'important': 1, 'thing': 2}\n"
          ],
          "name": "stdout"
        }
      ]
    },
    {
      "cell_type": "code",
      "metadata": {
        "id": "dLaRff9Ccv6q"
      },
      "source": [
        "# 이상 CountVectorizer"
      ],
      "execution_count": 8,
      "outputs": []
    },
    {
      "cell_type": "markdown",
      "metadata": {
        "id": "ELLZTmjOc1d0"
      },
      "source": [
        "## TF-IDF ( Term Frequency - Inverse Document Frequency )\n",
        "+ 위의 카운트 기반 벡터화는 단어의 빈도수가 높으면, 그 단어가 중요하다고 평가한다. 하지만 불용어들이 자주 등장하는 단어들이므로, 이에 따라 중요하다고 평가받을 수 있다.\n",
        "+ 이 문제를 보완하기 위해 TF-IDF 벡터화를 사용한다.\n",
        "+ TF-IDF는 자주 등장하는 단어에 높은 가중치를 주되, 모든 텍스트에서 자주 등장하는 단어에는 패널티를 부여한다. 특정 텍스트에서만 자주 등장하는 단어에 높은 가중치를 주는 방식이다.\n",
        "+ 특정 텍스트에서만 자주 등장하는 단어에 높은 가중치를 부여 받으므로, 해당 텍스트에서 그 단어가 실질적으로 중요한지 판단할 수 있다.\n",
        "+ 일반적으로 문서의 양이 많을 때에는, 카운트벡터화보다 TF-IDF 방식을 많이 사용한다."
      ]
    },
    {
      "cell_type": "markdown",
      "metadata": {
        "id": "P2KBg3jqdz52"
      },
      "source": [
        "![TF-IDF.png](data:image/png;base64,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)"
      ]
    },
    {
      "cell_type": "markdown",
      "metadata": {
        "id": "j8kkeAsZeZnu"
      },
      "source": [
        "- tf(i,j) 는 카운트 벡터화 식을 의미한다. ( i ~ j 구간에서 특정 단어가 얼마나 나타났는지를 의미 )\n",
        "- df_i 는 특정단어 i를 포함하는 문서의 개수를 의미한다.\n",
        "- 하지만 여기에 log(N/df_i)를 곱하면 N은 문장의 길이로 처음에 주어진 상수와 같아서, df_i가 증가할수록, log(N/df_i)는 감소한다.\n",
        "- 즉, 이 부분에서 df_i가 많다는 것은, 많은 문서에서 i를 많이 쓴다는 것이고, 이를 log의 분모에 넣어서 df_i가 커질수록 해당 부분에 대해 패널티를 부여하게 된다.\n"
      ]
    },
    {
      "cell_type": "code",
      "metadata": {
        "colab": {
          "base_uri": "https://localhost:8080/"
        },
        "id": "fbBbOp3jd35w",
        "outputId": "ab228d5f-e76c-4c04-c178-da097d6f2cea"
      },
      "source": [
        "# TF IDF 벡터화\n",
        "from sklearn.feature_extraction.text import TfidfVectorizer\n",
        "corpus = [\n",
        "    'you know I want your love',\n",
        "    'I like you',\n",
        "    'what should I do ',    \n",
        "]\n",
        "tfidfv = TfidfVectorizer().fit(corpus)\n",
        "print(tfidfv.transform(corpus).toarray())\n",
        "print(tfidfv.vocabulary_)"
      ],
      "execution_count": 9,
      "outputs": [
        {
          "output_type": "stream",
          "text": [
            "[[0.         0.46735098 0.         0.46735098 0.         0.46735098\n",
            "  0.         0.35543247 0.46735098]\n",
            " [0.         0.         0.79596054 0.         0.         0.\n",
            "  0.         0.60534851 0.        ]\n",
            " [0.57735027 0.         0.         0.         0.57735027 0.\n",
            "  0.57735027 0.         0.        ]]\n",
            "{'you': 7, 'know': 1, 'want': 5, 'your': 8, 'love': 3, 'like': 2, 'what': 6, 'should': 4, 'do': 0}\n"
          ],
          "name": "stdout"
        }
      ]
    },
    {
      "cell_type": "code",
      "metadata": {
        "colab": {
          "base_uri": "https://localhost:8080/"
        },
        "id": "6pONGwALfaDc",
        "outputId": "853b2aed-bd7e-49f0-f6bf-a8cd4e8f2604"
      },
      "source": [
        "# 카운트 벡터화\n",
        "from sklearn.feature_extraction.text import CountVectorizer\n",
        "corpus = [\n",
        "    'you know I want your love',\n",
        "    'I like you',\n",
        "    'what should I do ',    \n",
        "]\n",
        "vector = CountVectorizer()\n",
        "print(vector.fit_transform(corpus).toarray())\n",
        "print(vector.vocabulary_)"
      ],
      "execution_count": 10,
      "outputs": [
        {
          "output_type": "stream",
          "text": [
            "[[0 1 0 1 0 1 0 1 1]\n",
            " [0 0 1 0 0 0 0 1 0]\n",
            " [1 0 0 0 1 0 1 0 0]]\n",
            "{'you': 7, 'know': 1, 'want': 5, 'your': 8, 'love': 3, 'like': 2, 'what': 6, 'should': 4, 'do': 0}\n"
          ],
          "name": "stdout"
        }
      ]
    },
    {
      "cell_type": "code",
      "metadata": {
        "id": "FmJq4yp0fghR"
      },
      "source": [
        ""
      ],
      "execution_count": null,
      "outputs": []
    }
  ]
}