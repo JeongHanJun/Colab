{
  "nbformat": 4,
  "nbformat_minor": 0,
  "metadata": {
    "colab": {
      "name": "tf2_Mnist.ipynb",
      "provenance": [],
      "collapsed_sections": [],
      "authorship_tag": "ABX9TyMb5HJk3TqfKDgSsSsSJTuC",
      "include_colab_link": true
    },
    "kernelspec": {
      "name": "python3",
      "display_name": "Python 3"
    },
    "language_info": {
      "name": "python"
    },
    "accelerator": "GPU"
  },
  "cells": [
    {
      "cell_type": "markdown",
      "metadata": {
        "id": "view-in-github",
        "colab_type": "text"
      },
      "source": [
        "<a href=\"https://colab.research.google.com/github/JeongHanJun/Colab/blob/master/tf2_Mnist.ipynb\" target=\"_parent\"><img src=\"https://colab.research.google.com/assets/colab-badge.svg\" alt=\"Open In Colab\"/></a>"
      ]
    },
    {
      "cell_type": "code",
      "metadata": {
        "colab": {
          "base_uri": "https://localhost:8080/"
        },
        "id": "wN5CfJ0fn_rX",
        "outputId": "c8e7ba88-f302-445b-e276-3f97f30a212a"
      },
      "source": [
        "pip install tensorflow"
      ],
      "execution_count": 1,
      "outputs": [
        {
          "output_type": "stream",
          "text": [
            "Requirement already satisfied: tensorflow in /usr/local/lib/python3.7/dist-packages (2.5.0)\n",
            "Requirement already satisfied: six~=1.15.0 in /usr/local/lib/python3.7/dist-packages (from tensorflow) (1.15.0)\n",
            "Requirement already satisfied: google-pasta~=0.2 in /usr/local/lib/python3.7/dist-packages (from tensorflow) (0.2.0)\n",
            "Requirement already satisfied: wheel~=0.35 in /usr/local/lib/python3.7/dist-packages (from tensorflow) (0.36.2)\n",
            "Requirement already satisfied: grpcio~=1.34.0 in /usr/local/lib/python3.7/dist-packages (from tensorflow) (1.34.1)\n",
            "Requirement already satisfied: tensorboard~=2.5 in /usr/local/lib/python3.7/dist-packages (from tensorflow) (2.5.0)\n",
            "Requirement already satisfied: keras-preprocessing~=1.1.2 in /usr/local/lib/python3.7/dist-packages (from tensorflow) (1.1.2)\n",
            "Requirement already satisfied: h5py~=3.1.0 in /usr/local/lib/python3.7/dist-packages (from tensorflow) (3.1.0)\n",
            "Requirement already satisfied: protobuf>=3.9.2 in /usr/local/lib/python3.7/dist-packages (from tensorflow) (3.17.3)\n",
            "Requirement already satisfied: tensorflow-estimator<2.6.0,>=2.5.0rc0 in /usr/local/lib/python3.7/dist-packages (from tensorflow) (2.5.0)\n",
            "Requirement already satisfied: astunparse~=1.6.3 in /usr/local/lib/python3.7/dist-packages (from tensorflow) (1.6.3)\n",
            "Requirement already satisfied: absl-py~=0.10 in /usr/local/lib/python3.7/dist-packages (from tensorflow) (0.12.0)\n",
            "Requirement already satisfied: wrapt~=1.12.1 in /usr/local/lib/python3.7/dist-packages (from tensorflow) (1.12.1)\n",
            "Requirement already satisfied: numpy~=1.19.2 in /usr/local/lib/python3.7/dist-packages (from tensorflow) (1.19.5)\n",
            "Requirement already satisfied: typing-extensions~=3.7.4 in /usr/local/lib/python3.7/dist-packages (from tensorflow) (3.7.4.3)\n",
            "Requirement already satisfied: opt-einsum~=3.3.0 in /usr/local/lib/python3.7/dist-packages (from tensorflow) (3.3.0)\n",
            "Requirement already satisfied: termcolor~=1.1.0 in /usr/local/lib/python3.7/dist-packages (from tensorflow) (1.1.0)\n",
            "Requirement already satisfied: flatbuffers~=1.12.0 in /usr/local/lib/python3.7/dist-packages (from tensorflow) (1.12)\n",
            "Requirement already satisfied: gast==0.4.0 in /usr/local/lib/python3.7/dist-packages (from tensorflow) (0.4.0)\n",
            "Requirement already satisfied: keras-nightly~=2.5.0.dev in /usr/local/lib/python3.7/dist-packages (from tensorflow) (2.5.0.dev2021032900)\n",
            "Requirement already satisfied: cached-property in /usr/local/lib/python3.7/dist-packages (from h5py~=3.1.0->tensorflow) (1.5.2)\n",
            "Requirement already satisfied: google-auth<2,>=1.6.3 in /usr/local/lib/python3.7/dist-packages (from tensorboard~=2.5->tensorflow) (1.32.1)\n",
            "Requirement already satisfied: setuptools>=41.0.0 in /usr/local/lib/python3.7/dist-packages (from tensorboard~=2.5->tensorflow) (57.2.0)\n",
            "Requirement already satisfied: tensorboard-data-server<0.7.0,>=0.6.0 in /usr/local/lib/python3.7/dist-packages (from tensorboard~=2.5->tensorflow) (0.6.1)\n",
            "Requirement already satisfied: tensorboard-plugin-wit>=1.6.0 in /usr/local/lib/python3.7/dist-packages (from tensorboard~=2.5->tensorflow) (1.8.0)\n",
            "Requirement already satisfied: requests<3,>=2.21.0 in /usr/local/lib/python3.7/dist-packages (from tensorboard~=2.5->tensorflow) (2.23.0)\n",
            "Requirement already satisfied: werkzeug>=0.11.15 in /usr/local/lib/python3.7/dist-packages (from tensorboard~=2.5->tensorflow) (1.0.1)\n",
            "Requirement already satisfied: google-auth-oauthlib<0.5,>=0.4.1 in /usr/local/lib/python3.7/dist-packages (from tensorboard~=2.5->tensorflow) (0.4.4)\n",
            "Requirement already satisfied: markdown>=2.6.8 in /usr/local/lib/python3.7/dist-packages (from tensorboard~=2.5->tensorflow) (3.3.4)\n",
            "Requirement already satisfied: cachetools<5.0,>=2.0.0 in /usr/local/lib/python3.7/dist-packages (from google-auth<2,>=1.6.3->tensorboard~=2.5->tensorflow) (4.2.2)\n",
            "Requirement already satisfied: pyasn1-modules>=0.2.1 in /usr/local/lib/python3.7/dist-packages (from google-auth<2,>=1.6.3->tensorboard~=2.5->tensorflow) (0.2.8)\n",
            "Requirement already satisfied: rsa<5,>=3.1.4 in /usr/local/lib/python3.7/dist-packages (from google-auth<2,>=1.6.3->tensorboard~=2.5->tensorflow) (4.7.2)\n",
            "Requirement already satisfied: requests-oauthlib>=0.7.0 in /usr/local/lib/python3.7/dist-packages (from google-auth-oauthlib<0.5,>=0.4.1->tensorboard~=2.5->tensorflow) (1.3.0)\n",
            "Requirement already satisfied: importlib-metadata in /usr/local/lib/python3.7/dist-packages (from markdown>=2.6.8->tensorboard~=2.5->tensorflow) (4.6.1)\n",
            "Requirement already satisfied: pyasn1<0.5.0,>=0.4.6 in /usr/local/lib/python3.7/dist-packages (from pyasn1-modules>=0.2.1->google-auth<2,>=1.6.3->tensorboard~=2.5->tensorflow) (0.4.8)\n",
            "Requirement already satisfied: chardet<4,>=3.0.2 in /usr/local/lib/python3.7/dist-packages (from requests<3,>=2.21.0->tensorboard~=2.5->tensorflow) (3.0.4)\n",
            "Requirement already satisfied: urllib3!=1.25.0,!=1.25.1,<1.26,>=1.21.1 in /usr/local/lib/python3.7/dist-packages (from requests<3,>=2.21.0->tensorboard~=2.5->tensorflow) (1.24.3)\n",
            "Requirement already satisfied: idna<3,>=2.5 in /usr/local/lib/python3.7/dist-packages (from requests<3,>=2.21.0->tensorboard~=2.5->tensorflow) (2.10)\n",
            "Requirement already satisfied: certifi>=2017.4.17 in /usr/local/lib/python3.7/dist-packages (from requests<3,>=2.21.0->tensorboard~=2.5->tensorflow) (2021.5.30)\n",
            "Requirement already satisfied: oauthlib>=3.0.0 in /usr/local/lib/python3.7/dist-packages (from requests-oauthlib>=0.7.0->google-auth-oauthlib<0.5,>=0.4.1->tensorboard~=2.5->tensorflow) (3.1.1)\n",
            "Requirement already satisfied: zipp>=0.5 in /usr/local/lib/python3.7/dist-packages (from importlib-metadata->markdown>=2.6.8->tensorboard~=2.5->tensorflow) (3.5.0)\n"
          ],
          "name": "stdout"
        }
      ]
    },
    {
      "cell_type": "code",
      "metadata": {
        "id": "COuNJfjSoCL0"
      },
      "source": [
        "import tensorflow as tf"
      ],
      "execution_count": 1,
      "outputs": []
    },
    {
      "cell_type": "code",
      "metadata": {
        "colab": {
          "base_uri": "https://localhost:8080/",
          "height": 35
        },
        "id": "hesgdswaoTPs",
        "outputId": "95ac0dd7-a5c1-453e-9305-4f9e98fc1aa4"
      },
      "source": [
        "tf.__version__"
      ],
      "execution_count": 2,
      "outputs": [
        {
          "output_type": "execute_result",
          "data": {
            "application/vnd.google.colaboratory.intrinsic+json": {
              "type": "string"
            },
            "text/plain": [
              "'2.5.0'"
            ]
          },
          "metadata": {
            "tags": []
          },
          "execution_count": 2
        }
      ]
    },
    {
      "cell_type": "code",
      "metadata": {
        "id": "-WpngSFeoVg-"
      },
      "source": [
        "%tensorflow_version 2.x"
      ],
      "execution_count": 3,
      "outputs": []
    },
    {
      "cell_type": "markdown",
      "metadata": {
        "id": "QK8vE_2EpYqW"
      },
      "source": [
        "## 1. Import Libraries"
      ]
    },
    {
      "cell_type": "code",
      "metadata": {
        "colab": {
          "base_uri": "https://localhost:8080/"
        },
        "id": "gGKfLFACoabv",
        "outputId": "2e0f2e34-95d6-4b69-9f69-4b9aa4de4621"
      },
      "source": [
        "import tensorflow as tf\n",
        "from tensorflow import keras\n",
        "from tensorflow.keras.utils import to_categorical# one-hot encoding\n",
        "import numpy as np\n",
        "import pandas as pd\n",
        "import matplotlib.pyplot as plt\n",
        "import os\n",
        "\n",
        "%matplotlib inline\n",
        "\n",
        "print(tf.__version__)\n",
        "print(keras.__version__)\n"
      ],
      "execution_count": 4,
      "outputs": [
        {
          "output_type": "stream",
          "text": [
            "2.5.0\n",
            "2.5.0\n"
          ],
          "name": "stdout"
        }
      ]
    },
    {
      "cell_type": "markdown",
      "metadata": {
        "id": "Ss0F9h7eo3z0"
      },
      "source": [
        "## Hyper Parameters"
      ]
    },
    {
      "cell_type": "code",
      "metadata": {
        "id": "KLEVWoXVpKMi"
      },
      "source": [
        "learning_rate = 0.01\n",
        "my_epochs = 15\n",
        "my_batch_size = 100"
      ],
      "execution_count": 5,
      "outputs": []
    },
    {
      "cell_type": "markdown",
      "metadata": {
        "id": "KLu2vHIQpm1-"
      },
      "source": [
        "## 3. Import MNIST data from keras"
      ]
    },
    {
      "cell_type": "code",
      "metadata": {
        "colab": {
          "base_uri": "https://localhost:8080/"
        },
        "id": "CVuO6N9rpvp4",
        "outputId": "b51430a9-ffde-4dd4-ac31-642f45e87bb2"
      },
      "source": [
        "mnist = keras.datasets.mnist\n",
        "class_name = [ str(i) for i in range(10) ]\n",
        "print(class_name)"
      ],
      "execution_count": 6,
      "outputs": [
        {
          "output_type": "stream",
          "text": [
            "['0', '1', '2', '3', '4', '5', '6', '7', '8', '9']\n"
          ],
          "name": "stdout"
        }
      ]
    },
    {
      "cell_type": "code",
      "metadata": {
        "colab": {
          "base_uri": "https://localhost:8080/"
        },
        "id": "fKtRD2hgqA_Y",
        "outputId": "0d805979-b8da-4987-9470-b1cb9e775adc"
      },
      "source": [
        "#load data (train, test)\n",
        "(train_images, train_labels) , (test_images, test_labels) = mnist.load_data()\n",
        "\n",
        "# Normalize val <= 1 \n",
        "train_images = train_images.astype(np.float32) / 255.0\n",
        "test_images = test_images.astype(np.float32) / 255.0\n",
        "\n",
        "# ndim 차원 변경\n",
        "train_images = np.expand_dims(train_images, axis = -1)\n",
        "test_images = np.expand_dims(test_images, axis = -1)\n",
        "\n",
        "# label을 통한 one-hot encoding\n",
        "train_labels = to_categorical(train_labels, 10)\n",
        "test_labels = to_categorical(test_labels, 10)"
      ],
      "execution_count": 7,
      "outputs": [
        {
          "output_type": "stream",
          "text": [
            "Downloading data from https://storage.googleapis.com/tensorflow/tf-keras-datasets/mnist.npz\n",
            "11493376/11490434 [==============================] - 0s 0us/step\n"
          ],
          "name": "stdout"
        }
      ]
    },
    {
      "cell_type": "markdown",
      "metadata": {
        "id": "_rtujt8SrqRF"
      },
      "source": [
        "## 4. Model Functions"
      ]
    },
    {
      "cell_type": "code",
      "metadata": {
        "id": "QB2dfQpwr95q"
      },
      "source": [
        "# Function Model Layer\n",
        "\n",
        "def create_model_relu():\n",
        "  inputs = keras.Input( shape = (28, 28, 1) )# keras.Input 에서 I가 소문자가 아닌 대문자 I\n",
        "  \n",
        "  conv1 = keras.layers.Conv2D( filters = 32, kernel_size = [3, 3], padding = \"SAME\", activation = tf.nn.relu )(inputs)# tf.nn.leaky_relu도 있음\n",
        "  pool1 = keras.layers.MaxPool2D( padding = \"SAME\" )(conv1)\n",
        "  \n",
        "  conv2 = keras.layers.Conv2D( filters = 64, kernel_size = [3, 3], padding = \"SAME\", activation = tf.nn.relu )(pool1)\n",
        "  pool2 = keras.layers.MaxPool2D( padding = \"SAME\" )(conv2)\n",
        "  \n",
        "  conv3 = keras.layers.Conv2D( filters = 128, kernel_size=[3, 3], padding = \"SAME\", activation=tf.nn.relu )(pool2)\n",
        "  pool3 = keras.layers.MaxPool2D( padding = \"SAME\" )(conv3)\n",
        "\n",
        "  pool3_flat = keras.layers.Flatten()(pool3)\n",
        "\n",
        "  dense4 = keras.layers.Dense( units = 256, activation = tf.nn.relu)(pool3_flat )\n",
        "  drop4 = keras.layers.Dropout( rate = 0.4 )(dense4)\n",
        "\n",
        "  logits = keras.layers.Dense(units = 10, activation = tf.nn.softmax)(drop4)\n",
        "\n",
        "  return keras.Model( inputs = inputs, outputs = logits )# inputs =inputs 에서 앞의 i는 소문자 i이고, parameter i 이다.  뒤의 I는 소문자 I이고 함수 상단 inputs = keras.Input으로 받은 Inputs이다.\n",
        "\n",
        "\n",
        "def create_model_leaky_relu():\n",
        "  inputs = keras.Input( shape = (28, 28, 1) )# keras.Input 에서 I가 소문자가 아닌 대문자 I\n",
        "  \n",
        "  conv1 = keras.layers.Conv2D( filters = 32, kernel_size = [3, 3], padding = \"SAME\", activation = tf.nn.leaky_relu )(inputs)\n",
        "  pool1 = keras.layers.MaxPool2D( padding = \"SAME\" )(conv1)\n",
        "  \n",
        "  conv2 = keras.layers.Conv2D( filters = 64, kernel_size = [3, 3], padding = \"SAME\", activation = tf.nn.leaky_relu )(pool1)\n",
        "  pool2 = keras.layers.MaxPool2D( padding = \"SAME\" )(conv2)\n",
        "  \n",
        "  conv3 = keras.layers.Conv2D( filters = 128, kernel_size=[3, 3], padding = \"SAME\", activation=tf.nn.leaky_relu )(pool2)\n",
        "  pool3 = keras.layers.MaxPool2D( padding = \"SAME\" )(conv3)\n",
        "\n",
        "  pool3_flat = keras.layers.Flatten()(pool3)\n",
        "\n",
        "  dense4 = keras.layers.Dense( units = 256, activation = tf.nn.leaky_relu)(pool3_flat )\n",
        "  drop4 = keras.layers.Dropout( rate = 0.4 )(dense4)\n",
        "\n",
        "  logits = keras.layers.Dense(units = 10, activation = tf.nn.softmax)(drop4)\n",
        "\n",
        "  return keras.Model( inputs = inputs, outputs = logits )# inputs = inputs 에서 앞의 i는 소문자 i이고, parameter i 이다.  뒤의 I는 소문자 I이고 함수 상단 inputs = keras.Input으로 받은 Inputs이다.\n",
        "\n",
        "model1 = create_model_relu()\n",
        "model2 = create_model_leaky_relu()\n"
      ],
      "execution_count": 8,
      "outputs": []
    },
    {
      "cell_type": "code",
      "metadata": {
        "colab": {
          "base_uri": "https://localhost:8080/"
        },
        "id": "BXNxsdpHwQk5",
        "outputId": "2af5e487-09de-46af-d0f0-a9d6f36e05f7"
      },
      "source": [
        "model1.summary"
      ],
      "execution_count": 9,
      "outputs": [
        {
          "output_type": "execute_result",
          "data": {
            "text/plain": [
              "<bound method Model.summary of <tensorflow.python.keras.engine.functional.Functional object at 0x7f84403c2690>>"
            ]
          },
          "metadata": {
            "tags": []
          },
          "execution_count": 9
        }
      ]
    },
    {
      "cell_type": "code",
      "metadata": {
        "colab": {
          "base_uri": "https://localhost:8080/"
        },
        "id": "gAG9liCpxjTo",
        "outputId": "1fd84d04-0746-4a08-acb8-54c1bc56a7ef"
      },
      "source": [
        "model1.summary()"
      ],
      "execution_count": 10,
      "outputs": [
        {
          "output_type": "stream",
          "text": [
            "Model: \"model\"\n",
            "_________________________________________________________________\n",
            "Layer (type)                 Output Shape              Param #   \n",
            "=================================================================\n",
            "input_1 (InputLayer)         [(None, 28, 28, 1)]       0         \n",
            "_________________________________________________________________\n",
            "conv2d (Conv2D)              (None, 28, 28, 32)        320       \n",
            "_________________________________________________________________\n",
            "max_pooling2d (MaxPooling2D) (None, 14, 14, 32)        0         \n",
            "_________________________________________________________________\n",
            "conv2d_1 (Conv2D)            (None, 14, 14, 64)        18496     \n",
            "_________________________________________________________________\n",
            "max_pooling2d_1 (MaxPooling2 (None, 7, 7, 64)          0         \n",
            "_________________________________________________________________\n",
            "conv2d_2 (Conv2D)            (None, 7, 7, 128)         73856     \n",
            "_________________________________________________________________\n",
            "max_pooling2d_2 (MaxPooling2 (None, 4, 4, 128)         0         \n",
            "_________________________________________________________________\n",
            "flatten (Flatten)            (None, 2048)              0         \n",
            "_________________________________________________________________\n",
            "dense (Dense)                (None, 256)               524544    \n",
            "_________________________________________________________________\n",
            "dropout (Dropout)            (None, 256)               0         \n",
            "_________________________________________________________________\n",
            "dense_1 (Dense)              (None, 10)                2570      \n",
            "=================================================================\n",
            "Total params: 619,786\n",
            "Trainable params: 619,786\n",
            "Non-trainable params: 0\n",
            "_________________________________________________________________\n"
          ],
          "name": "stdout"
        }
      ]
    },
    {
      "cell_type": "code",
      "metadata": {
        "colab": {
          "base_uri": "https://localhost:8080/"
        },
        "id": "05tOoEMkxk73",
        "outputId": "1642fd3b-5d79-4426-d24c-19d2e7b98f78"
      },
      "source": [
        "model2.summary()"
      ],
      "execution_count": 11,
      "outputs": [
        {
          "output_type": "stream",
          "text": [
            "Model: \"model_1\"\n",
            "_________________________________________________________________\n",
            "Layer (type)                 Output Shape              Param #   \n",
            "=================================================================\n",
            "input_2 (InputLayer)         [(None, 28, 28, 1)]       0         \n",
            "_________________________________________________________________\n",
            "conv2d_3 (Conv2D)            (None, 28, 28, 32)        320       \n",
            "_________________________________________________________________\n",
            "max_pooling2d_3 (MaxPooling2 (None, 14, 14, 32)        0         \n",
            "_________________________________________________________________\n",
            "conv2d_4 (Conv2D)            (None, 14, 14, 64)        18496     \n",
            "_________________________________________________________________\n",
            "max_pooling2d_4 (MaxPooling2 (None, 7, 7, 64)          0         \n",
            "_________________________________________________________________\n",
            "conv2d_5 (Conv2D)            (None, 7, 7, 128)         73856     \n",
            "_________________________________________________________________\n",
            "max_pooling2d_5 (MaxPooling2 (None, 4, 4, 128)         0         \n",
            "_________________________________________________________________\n",
            "flatten_1 (Flatten)          (None, 2048)              0         \n",
            "_________________________________________________________________\n",
            "dense_2 (Dense)              (None, 256)               524544    \n",
            "_________________________________________________________________\n",
            "dropout_1 (Dropout)          (None, 256)               0         \n",
            "_________________________________________________________________\n",
            "dense_3 (Dense)              (None, 10)                2570      \n",
            "=================================================================\n",
            "Total params: 619,786\n",
            "Trainable params: 619,786\n",
            "Non-trainable params: 0\n",
            "_________________________________________________________________\n"
          ],
          "name": "stdout"
        }
      ]
    },
    {
      "cell_type": "markdown",
      "metadata": {
        "id": "dX9QGuK1xoX1"
      },
      "source": [
        "## 5. Training"
      ]
    },
    {
      "cell_type": "code",
      "metadata": {
        "colab": {
          "base_uri": "https://localhost:8080/"
        },
        "id": "0hUXqgbGxutY",
        "outputId": "7da273d2-5885-4673-81de-2131d4d87e6c"
      },
      "source": [
        "# make CNN Model Structure and Compile\n",
        "model1.compile( \n",
        "    loss = 'categorical_crossentropy', # cross entropy loss\n",
        "    optimizer = 'adam', # adam optimizer\n",
        "    metrics = ['accuracy']# 정확도 측정\n",
        ")\n",
        "\n",
        "# Execute Learning\n",
        "model1.fit(\n",
        "    train_images, train_labels, \n",
        "    batch_size = my_batch_size, # 2. Hyper Parameter 참고 , batch_size 는 조정가능 , 한번 학습할 때 얼마의 크기로 학습할 것인지\n",
        "    epochs = my_epochs, # 2. Hyper Parameter 참고, epochs 도 조정가능 , 몇번 학습할 것인지\n",
        "    verbose = 1, # verbose : 학습 중 출력 문구 설정( 아래 Epoch 1/15 600/600  어쩌구 나오는 이 문구들에 대한 설정 , verbose = 0 : silent , verbose = 1 : progress bar , verbose = 2 : one line per each epoch )\n",
        "    validation_data = (test_images, test_labels)\n",
        ")\n",
        "\n",
        "score = model1.evaluate(test_images, test_labels, verbose = 0)# check test result\n",
        "print('Test loss :', score[0] )\n",
        "print('Test accuracy :', score[1])"
      ],
      "execution_count": 12,
      "outputs": [
        {
          "output_type": "stream",
          "text": [
            "Epoch 1/15\n",
            "600/600 [==============================] - 35s 5ms/step - loss: 0.1936 - accuracy: 0.9391 - val_loss: 0.0449 - val_accuracy: 0.9860\n",
            "Epoch 2/15\n",
            "600/600 [==============================] - 3s 5ms/step - loss: 0.0542 - accuracy: 0.9834 - val_loss: 0.0291 - val_accuracy: 0.9903\n",
            "Epoch 3/15\n",
            "600/600 [==============================] - 3s 5ms/step - loss: 0.0386 - accuracy: 0.9884 - val_loss: 0.0262 - val_accuracy: 0.9914\n",
            "Epoch 4/15\n",
            "600/600 [==============================] - 3s 5ms/step - loss: 0.0301 - accuracy: 0.9909 - val_loss: 0.0292 - val_accuracy: 0.9901\n",
            "Epoch 5/15\n",
            "600/600 [==============================] - 3s 5ms/step - loss: 0.0249 - accuracy: 0.9918 - val_loss: 0.0245 - val_accuracy: 0.9921\n",
            "Epoch 6/15\n",
            "600/600 [==============================] - 3s 5ms/step - loss: 0.0199 - accuracy: 0.9939 - val_loss: 0.0234 - val_accuracy: 0.9914\n",
            "Epoch 7/15\n",
            "600/600 [==============================] - 3s 5ms/step - loss: 0.0169 - accuracy: 0.9946 - val_loss: 0.0226 - val_accuracy: 0.9929\n",
            "Epoch 8/15\n",
            "600/600 [==============================] - 3s 5ms/step - loss: 0.0154 - accuracy: 0.9949 - val_loss: 0.0227 - val_accuracy: 0.9923\n",
            "Epoch 9/15\n",
            "600/600 [==============================] - 3s 5ms/step - loss: 0.0130 - accuracy: 0.9958 - val_loss: 0.0247 - val_accuracy: 0.9919\n",
            "Epoch 10/15\n",
            "600/600 [==============================] - 3s 5ms/step - loss: 0.0107 - accuracy: 0.9966 - val_loss: 0.0241 - val_accuracy: 0.9930\n",
            "Epoch 11/15\n",
            "600/600 [==============================] - 3s 5ms/step - loss: 0.0117 - accuracy: 0.9963 - val_loss: 0.0244 - val_accuracy: 0.9929\n",
            "Epoch 12/15\n",
            "600/600 [==============================] - 3s 5ms/step - loss: 0.0079 - accuracy: 0.9974 - val_loss: 0.0261 - val_accuracy: 0.9916\n",
            "Epoch 13/15\n",
            "600/600 [==============================] - 3s 5ms/step - loss: 0.0097 - accuracy: 0.9967 - val_loss: 0.0252 - val_accuracy: 0.9936\n",
            "Epoch 14/15\n",
            "600/600 [==============================] - 3s 5ms/step - loss: 0.0082 - accuracy: 0.9973 - val_loss: 0.0225 - val_accuracy: 0.9926\n",
            "Epoch 15/15\n",
            "600/600 [==============================] - 3s 5ms/step - loss: 0.0070 - accuracy: 0.9977 - val_loss: 0.0267 - val_accuracy: 0.9931\n",
            "Test loss : 0.026736853644251823\n",
            "Test accuracy : 0.9930999875068665\n"
          ],
          "name": "stdout"
        }
      ]
    },
    {
      "cell_type": "code",
      "metadata": {
        "colab": {
          "base_uri": "https://localhost:8080/"
        },
        "id": "Yq8V1-x4zMyo",
        "outputId": "a8f450a7-7fd1-4bde-dfea-2ac2d4111d3c"
      },
      "source": [
        "# make CNN Model Structure and Compile\n",
        "model2.compile( \n",
        "    loss = 'categorical_crossentropy', # cross entropy loss\n",
        "    optimizer = 'adam', # adam optimizer\n",
        "    metrics = ['accuracy']# 정확도 측정\n",
        ")\n",
        "\n",
        "# Execute Learning\n",
        "model2.fit(\n",
        "    train_images, train_labels, \n",
        "    batch_size = my_batch_size, # 2. Hyper Parameter 참고 , batch_size 는 조정가능 , 한번 학습할 때 얼마의 크기로 학습할 것인지\n",
        "    epochs = my_epochs, # 2. Hyper Parameter 참고, epochs 도 조정가능 , 몇번 학습할 것인지\n",
        "    verbose = 1, # verbose : 학습 중 출력 문구 설정( 아래 Epoch 1/15 600/600  어쩌구 나오는 이 문구들에 대한 설정 , verbose = 0 : silent , verbose = 1 : progress bar , verbose = 2 : one line per each epoch )\n",
        "    validation_data = (test_images, test_labels)\n",
        ")\n",
        "\n",
        "score = model2.evaluate(test_images, test_labels, verbose = 0)# check test result\n",
        "print('Test loss :', score[0] )\n",
        "print('Test accuracy :', score[1])"
      ],
      "execution_count": 13,
      "outputs": [
        {
          "output_type": "stream",
          "text": [
            "Epoch 1/15\n",
            "600/600 [==============================] - 4s 6ms/step - loss: 0.1672 - accuracy: 0.9468 - val_loss: 0.0425 - val_accuracy: 0.9868\n",
            "Epoch 2/15\n",
            "600/600 [==============================] - 3s 5ms/step - loss: 0.0483 - accuracy: 0.9851 - val_loss: 0.0264 - val_accuracy: 0.9903\n",
            "Epoch 3/15\n",
            "600/600 [==============================] - 3s 5ms/step - loss: 0.0342 - accuracy: 0.9888 - val_loss: 0.0282 - val_accuracy: 0.9913\n",
            "Epoch 4/15\n",
            "600/600 [==============================] - 3s 5ms/step - loss: 0.0252 - accuracy: 0.9921 - val_loss: 0.0249 - val_accuracy: 0.9924\n",
            "Epoch 5/15\n",
            "600/600 [==============================] - 3s 5ms/step - loss: 0.0211 - accuracy: 0.9933 - val_loss: 0.0271 - val_accuracy: 0.9913\n",
            "Epoch 6/15\n",
            "600/600 [==============================] - 3s 5ms/step - loss: 0.0187 - accuracy: 0.9936 - val_loss: 0.0238 - val_accuracy: 0.9925\n",
            "Epoch 7/15\n",
            "600/600 [==============================] - 3s 5ms/step - loss: 0.0144 - accuracy: 0.9954 - val_loss: 0.0259 - val_accuracy: 0.9928\n",
            "Epoch 8/15\n",
            "600/600 [==============================] - 3s 5ms/step - loss: 0.0137 - accuracy: 0.9955 - val_loss: 0.0352 - val_accuracy: 0.9900\n",
            "Epoch 9/15\n",
            "600/600 [==============================] - 3s 5ms/step - loss: 0.0124 - accuracy: 0.9961 - val_loss: 0.0305 - val_accuracy: 0.9916\n",
            "Epoch 10/15\n",
            "600/600 [==============================] - 3s 5ms/step - loss: 0.0097 - accuracy: 0.9968 - val_loss: 0.0319 - val_accuracy: 0.9924\n",
            "Epoch 11/15\n",
            "600/600 [==============================] - 3s 5ms/step - loss: 0.0097 - accuracy: 0.9968 - val_loss: 0.0321 - val_accuracy: 0.9926\n",
            "Epoch 12/15\n",
            "600/600 [==============================] - 3s 5ms/step - loss: 0.0110 - accuracy: 0.9965 - val_loss: 0.0360 - val_accuracy: 0.9923\n",
            "Epoch 13/15\n",
            "600/600 [==============================] - 3s 5ms/step - loss: 0.0078 - accuracy: 0.9975 - val_loss: 0.0316 - val_accuracy: 0.9922\n",
            "Epoch 14/15\n",
            "600/600 [==============================] - 3s 5ms/step - loss: 0.0074 - accuracy: 0.9976 - val_loss: 0.0296 - val_accuracy: 0.9928\n",
            "Epoch 15/15\n",
            "600/600 [==============================] - 3s 5ms/step - loss: 0.0100 - accuracy: 0.9970 - val_loss: 0.0338 - val_accuracy: 0.9916\n",
            "Test loss : 0.0337773859500885\n",
            "Test accuracy : 0.991599977016449\n"
          ],
          "name": "stdout"
        }
      ]
    },
    {
      "cell_type": "code",
      "metadata": {
        "id": "JAzznBdWUDz9"
      },
      "source": [
        ""
      ],
      "execution_count": 13,
      "outputs": []
    }
  ]
}