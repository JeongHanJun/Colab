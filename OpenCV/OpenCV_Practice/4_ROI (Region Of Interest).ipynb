{
 "cells": [
  {
   "cell_type": "markdown",
   "id": "f8f3d94c",
   "metadata": {},
   "source": [
    "# ROI ( Regition Of Interest)\n",
    "\n",
    "\n",
    "- 영상 및 사진 중에 관심이 있는 영역 의미\n"
   ]
  },
  {
   "cell_type": "code",
   "execution_count": 6,
   "id": "dc2a165c",
   "metadata": {},
   "outputs": [
    {
     "name": "stdout",
     "output_type": "stream",
     "text": [
      "x : 898 , y : 607 , w : 701 , h : 382\n",
      "Cropped\n"
     ]
    }
   ],
   "source": [
    "import cv2\n",
    "import numpy as np\n",
    "\n",
    "img = cv2.imread('1.jpg')\n",
    "\n",
    "isDragging = False\n",
    "x, y, w, h = -1, -1, -1, -1\n",
    "blue, red = (255, 0, 0), (0, 0, 255)# BGR\n",
    "\n",
    "def onMouse(event, x1, y1, flags, param):\n",
    "    global isDragging, x, y, img\n",
    "    if event == cv2.EVENT_LBUTTONDOWN:\n",
    "        isDragging = True\n",
    "        x = x1\n",
    "        y = y1\n",
    "        \n",
    "    elif event == cv2.EVENT_MOUSEMOVE:\n",
    "        if isDragging:\n",
    "            img_draw = img.copy()\n",
    "            cv2.rectangle(img_draw, (x, y), (x1, y1), blue, 2)\n",
    "            cv2.imshow('Image', img_draw)\n",
    "    \n",
    "    elif event == cv2.EVENT_LBUTTONUP:\n",
    "        if isDragging:\n",
    "            isDragging = False\n",
    "            w = x1 - x\n",
    "            h = y1 - y\n",
    "            print('x : {} , y : {} , w : {} , h : {}'.format(x1, y1, w, h))\n",
    "            if w > 0 and h > 0:\n",
    "                img_draw = img.copy()\n",
    "                \n",
    "                cv2.rectangle(img_draw, (x, y), (x1, y1), red, 2)\n",
    "                cv2.imshow('Image', img_draw)\n",
    "                roi = img[y:y+h, x:x+w]\n",
    "                cv2.imshow('ROI', roi)\n",
    "                cv2.moveWindow('ROI', 0, 0)\n",
    "                cv2.imwrite('ROI.jpg', roi)\n",
    "                print('Cropped')\n",
    "                cv2.imwrite('ROI selected Image.jpg', roi)\n",
    "            else:\n",
    "                cv2.imshow('Image', img)\n",
    "                print(' 좌측상단 -> 우측 하단 방향으로 영역 드래그')\n",
    "img = cv2.imread('1.jpg')\n",
    "cv2.imshow('Image', img)\n",
    "cv2.setMouseCallback('Image', onMouse)\n",
    "cv2.waitKey(0)\n",
    "cv2.destroyAllWindows()"
   ]
  },
  {
   "cell_type": "markdown",
   "id": "a5a56c5d",
   "metadata": {},
   "source": [
    "## cv2.selectROI(win_name, img, showCrossHair = True, fromCenter = False)\n",
    "- OpenCV의 내장함수\n",
    "- 마우스로 ROI지정하고, 해당 마우스 이벤트 처리를 위한 코드 없이 관심영역 지정하도록 해주는 함수\n",
    "- win_name = ROI 표시할 창의 이름\n",
    "- img = ROI 표시할 이미지\n",
    "- showCrossHair = 선택 영역 중심에 십자 모양 표시 여부\n",
    "- fromCenter = 마우스 시작 지점을 영역의 중심으로 지정\n",
    "- ret = cv2.selectROI(win_name, img, showCrossHair = True, fromCenter = False)\n",
    "- ret = 선택한 영역의 좌표와 크기, 선택을 취소하면 모두 0으로 지정됨.\n",
    "\n",
    "\n",
    "### 아래는 cv2.selectROI 이용한 코드\n",
    "#### 마우스로 드래그 한 뒤 Space Bar 혹은 Enter를 누르면 새 창에 ROI 출력됨\n",
    "#### 드래그 후에 c 를 누르면 취소됨"
   ]
  },
  {
   "cell_type": "code",
   "execution_count": 8,
   "id": "112c3af6",
   "metadata": {},
   "outputs": [],
   "source": [
    "import cv2\n",
    "import numpy as np\n",
    "\n",
    "img = cv2.imread('1.jpg')\n",
    "\n",
    "x, y, w, h = cv2.selectROI('img', img, False)\n",
    "\n",
    "if w and h:\n",
    "    roi = img[y:y+h, x:x+w]\n",
    "    cv2.imshow('ROI', roi)\n",
    "    cv2.moveWindow('ROI', 0, 0)\n",
    "    cv2.imwrite('select ROI.jpg', roi)\n",
    "\n",
    "cv2.waitKey(0)\n",
    "cv2.destroyAllWindows()"
   ]
  },
  {
   "cell_type": "code",
   "execution_count": 1,
   "id": "50b3940a",
   "metadata": {},
   "outputs": [],
   "source": [
    "import cv2\n",
    "import numpy as np\n",
    "\n",
    "img = cv2.imread('./RC/1.jpg')\n",
    "\n",
    "x, y, w, h = cv2.selectROI('img', img, False)\n",
    "\n",
    "if w and h:\n",
    "    roi = img[y:y+h, x:x+w]\n",
    "    cv2.imshow('ROI', roi)\n",
    "    cv2.moveWindow('ROI', 0, 0)\n",
    "    cv2.imwrite('select ROI.jpg', roi)\n",
    "\n",
    "cv2.waitKey(0)\n",
    "cv2.destroyAllWindows()"
   ]
  },
  {
   "cell_type": "code",
   "execution_count": null,
   "id": "b18c0004",
   "metadata": {},
   "outputs": [],
   "source": []
  }
 ],
 "metadata": {
  "kernelspec": {
   "display_name": "Python 3",
   "language": "python",
   "name": "python3"
  },
  "language_info": {
   "codemirror_mode": {
    "name": "ipython",
    "version": 3
   },
   "file_extension": ".py",
   "mimetype": "text/x-python",
   "name": "python",
   "nbconvert_exporter": "python",
   "pygments_lexer": "ipython3",
   "version": "3.8.8"
  }
 },
 "nbformat": 4,
 "nbformat_minor": 5
}
