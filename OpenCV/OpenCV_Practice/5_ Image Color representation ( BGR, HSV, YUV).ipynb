{
 "cells": [
  {
   "cell_type": "markdown",
   "id": "aa5b2f74",
   "metadata": {},
   "source": [
    "## BGR, BGRA\n",
    "\n",
    "\n",
    "- 기존에 색상을 표현하던 RGB -> OpenCV에서는 그의 반대인 BGR 사용\n",
    "- RGBA = RGB + A(alpha) - 투명도 의미 , 0 ~ 255 사이 값을 가짐, 0이면 검은색, 255면 흰색\n"
   ]
  },
  {
   "cell_type": "code",
   "execution_count": 5,
   "id": "1fba9caa",
   "metadata": {},
   "outputs": [
    {
     "name": "stdout",
     "output_type": "stream",
     "text": [
      "default  (1381, 1387, 3) color  (1381, 1387, 3) unchanged   (1381, 1387, 3)\n"
     ]
    }
   ],
   "source": [
    "import cv2\n",
    "import numpy as np\n",
    "\n",
    "img = cv2.imread('./Ryan/1.jpg')\n",
    "bgr = cv2.imread('./Ryan/1.jpg', cv2.IMREAD_COLOR)\n",
    "bgra = cv2.imread('./Ryan/1.jpg', cv2.IMREAD_UNCHANGED)\n",
    "print('default ' , img.shape ,'color ' , bgr.shape, 'unchanged  ' , bgra.shape)\n",
    "\n",
    "cv2.imshow('BGR', bgr)\n",
    "cv2.imshow('BGRA', bgra)\n",
    "cv2.imshow('Alpha', bgra[:,:,2])\n",
    "cv2.waitKey(0)\n",
    "cv2.destroyAllWindows()"
   ]
  },
  {
   "cell_type": "markdown",
   "id": "ec8272e3",
   "metadata": {},
   "source": [
    "## cv2.imread(img, cv2.IMREAD_GRAYSCALE)\n",
    "- Color Image -> Gray Style Image\n",
    "- 이미지 연산의 양을 줄인ㄴ다 -> 속도를 높인다."
   ]
  },
  {
   "cell_type": "code",
   "execution_count": 6,
   "id": "633d1759",
   "metadata": {},
   "outputs": [],
   "source": [
    "import cv2\n",
    "import numpy as np\n",
    "\n",
    "img = cv2.imread('./RC/5.jpg')\n",
    "\n",
    "img2 = img.astype(np.uint16)\n",
    "\n",
    "b, g, r = cv2.split(img2)# 이미지 채널별로 분리\n",
    "gray1 = ( (b+g+r)/3 ).astype(np.uint8)\n",
    "gray2 = cv2.cvtColor(img, cv2.COLOR_BGR2GRAY)\n",
    "\n",
    "cv2.imshow('Original', img)\n",
    "cv2.imshow('gray1', gray1)\n",
    "cv2.imshow('gray2', gray2)\n",
    "\n",
    "cv2.waitKey(0)\n",
    "cv2.destroyAllWindows()\n"
   ]
  },
  {
   "cell_type": "markdown",
   "id": "6db126c9",
   "metadata": {},
   "source": [
    "### 이미지 Color 채널별로 분리\n",
    "- 이미지 채널별로 분리 = BGR채널별로 분리 = cv2.split(image) = numpy 슬라이싱\n",
    "- 따라서 아래 2개의 코드는 둘다 동일한 결과를 출력하는 코드이다."
   ]
  },
  {
   "cell_type": "code",
   "execution_count": null,
   "id": "50fcd05c",
   "metadata": {},
   "outputs": [],
   "source": [
    "b, g, r = cv2.split(img)\n",
    "b, g, r = img[:, :, 0] , img[:, :, 1] , img[:, :, 2]"
   ]
  },
  {
   "cell_type": "markdown",
   "id": "7f517561",
   "metadata": {},
   "source": [
    "## cv2.COLOR_flags\n",
    "- cv2.COLOR_BGR2GRAY: BGR 색상 이미지를 회색조 이미지로 변환\n",
    "\n",
    "\n",
    "- cv2.COLOR_GRAY2BGR: 회색조 이미지를 BGR 색상 이미지로 변환\n",
    "\n",
    "\n",
    "- cv2.COLOR_BGR2RGB: BGR 색상 이미지를 RGB 색상 이미지로 변환\n",
    "\n",
    "\n",
    "- cv2.COLOR_BGR2HSV: BGR 색상 이미지를 HSV 색상 이미지로 변환\n",
    "\n",
    "\n",
    "- cv2.COLOR_HSV2BGR: HSV 색상 이미지를 BGR 색상 이미지로 변환\n",
    "\n",
    "\n",
    "- cv2.COLOR_BGR2YUV: BGR 색상 이미지를 YUV 색상 이미지로 변환\n",
    "\n",
    "\n",
    "- cv2.COLOR_YUV2BGR: YUB 색상 이미지를 BGR 색상 이미지로 변환"
   ]
  },
  {
   "cell_type": "markdown",
   "id": "693d4c1e",
   "metadata": {},
   "source": [
    "# HSV ( H : Hue(색조) , S : Saturation(채도) , V : Value(명도)"
   ]
  },
  {
   "cell_type": "markdown",
   "id": "feb965e7",
   "metadata": {},
   "source": [
    "# YUV = YCbCr 방식 ( Y = Luma(밝기), U = 밝기와 파란색과의 색상차이(Chroma BLue, Cb), V = 밝기와 빨간색과의 색상 차이(Chroma Red, Cr)"
   ]
  },
  {
   "cell_type": "code",
   "execution_count": null,
   "id": "356d97d2",
   "metadata": {},
   "outputs": [],
   "source": []
  }
 ],
 "metadata": {
  "kernelspec": {
   "display_name": "Python 3",
   "language": "python",
   "name": "python3"
  },
  "language_info": {
   "codemirror_mode": {
    "name": "ipython",
    "version": 3
   },
   "file_extension": ".py",
   "mimetype": "text/x-python",
   "name": "python",
   "nbconvert_exporter": "python",
   "pygments_lexer": "ipython3",
   "version": "3.8.8"
  }
 },
 "nbformat": 4,
 "nbformat_minor": 5
}
