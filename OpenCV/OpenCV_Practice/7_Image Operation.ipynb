{
 "cells": [
  {
   "cell_type": "markdown",
   "id": "7e39dbd5",
   "metadata": {},
   "source": [
    "# OpenCV에서 제공하는 사칙연산 함수"
   ]
  },
  {
   "cell_type": "markdown",
   "id": "8f70c277",
   "metadata": {},
   "source": [
    "- cv2.add(src1, src2, dest, mask, dtype)\n",
    "    - src1, src2 : 입력이미지1, 입력이미지2\n",
    "    - dest(optional) : 출력 영상\n",
    "    - mask(optional) : mask값이 0이 아닌 픽셀만 연산\n",
    "    - dtype(optional) : Output dtype\n",
    "  \n",
    "  \n",
    "  \n",
    "- cv2.subtract(src1, src2, dest, mask, dtype)\n",
    "    빼기 연산, 나머지는 위와 동일\n",
    "\n",
    "\n",
    "\n",
    "- cv2.multiply(src1, src2, dest, scale, dtype)\n",
    "    곱하기 연산, 나머지는 위와 동일\n",
    "    - scale(optional) : 연산 결과에 추가 연산할 값\n",
    "\n",
    "\n",
    "\n",
    "- cv2.divide(src1, src2, scale, dtype)\n",
    "    나누기 연산\n"
   ]
  },
  {
   "cell_type": "code",
   "execution_count": 2,
   "id": "36439031",
   "metadata": {},
   "outputs": [
    {
     "name": "stdout",
     "output_type": "stream",
     "text": [
      "[[ 44 150]] [[255 150]]\n",
      "[[100 206]] [[100   0]]\n",
      "[[144 100]] [[255 100]]\n",
      "[[66.66666667 16.66666667]] [[67 17]]\n"
     ]
    }
   ],
   "source": [
    "import cv2\n",
    "import numpy as np\n",
    "\n",
    "a = np.uint8([[200, 50]])\n",
    "b = np.uint8([[100, 100]])\n",
    "\n",
    "add1 = a + b\n",
    "sub1 = a - b\n",
    "multi1 = a * 2\n",
    "div1 = a / 3\n",
    "\n",
    "add2 = cv2.add(a, b)\n",
    "sub2 = cv2.subtract(a, b)\n",
    "mult2 = cv2.multiply(a , 2)\n",
    "div2 = cv2.divide(a, 3)\n",
    "\n",
    "print(add1, add2)\n",
    "print(sub1, sub2)\n",
    "print(multi1, mult2)\n",
    "print(div1, div2)"
   ]
  },
  {
   "cell_type": "markdown",
   "id": "9dc1784b",
   "metadata": {},
   "source": [
    "### numpy 연산 결과와 OpenCV 연산 결과가 서로 다르다\n",
    "\n",
    "### uint8 dtype은 0 ~ 255 범위이므로 255를 넘기면 다시 0부터 카운팅을 한다.\n",
    "### cv2는 255를 넘기면 모두 255로 반환한다.\n",
    "### cv2에서는 0보다 작은 값은 0으로 반환한다."
   ]
  },
  {
   "cell_type": "code",
   "execution_count": null,
   "id": "aeabe838",
   "metadata": {},
   "outputs": [],
   "source": []
  }
 ],
 "metadata": {
  "kernelspec": {
   "display_name": "Python 3",
   "language": "python",
   "name": "python3"
  },
  "language_info": {
   "codemirror_mode": {
    "name": "ipython",
    "version": 3
   },
   "file_extension": ".py",
   "mimetype": "text/x-python",
   "name": "python",
   "nbconvert_exporter": "python",
   "pygments_lexer": "ipython3",
   "version": "3.8.8"
  }
 },
 "nbformat": 4,
 "nbformat_minor": 5
}
